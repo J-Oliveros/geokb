{
 "cells": [
  {
   "attachments": {},
   "cell_type": "markdown",
   "metadata": {},
   "source": [
    "U.S. Census data uses a Legal/Statistical Area Description code to describe every unit in their system. In this notebook, I pull these in from a reference HTML table published online and create items with their codes for use as a linked set of entities."
   ]
  },
  {
   "cell_type": "code",
   "execution_count": 1,
   "metadata": {},
   "outputs": [],
   "source": [
    "import pandas as pd\n",
    "from wbmaker import WikibaseConnection"
   ]
  },
  {
   "cell_type": "code",
   "execution_count": 3,
   "metadata": {},
   "outputs": [],
   "source": [
    "geokb = WikibaseConnection(\"GEOKB_CLOUD\")"
   ]
  },
  {
   "cell_type": "code",
   "execution_count": 4,
   "metadata": {},
   "outputs": [],
   "source": [
    "datasource_qid = geokb.ref_lookup['Legal/Statistical Area Description Codes and Definitions']\n",
    "instance_of_class = geokb.class_lookup['Legal/Statistical Area Description']\n",
    "lsad_property = geokb.prop_lookup['LSAD']"
   ]
  },
  {
   "cell_type": "code",
   "execution_count": 9,
   "metadata": {},
   "outputs": [],
   "source": [
    "ds = geokb.wbi.item.get(datasource_qid).get_json()\n",
    "ks_claim = next((i for i in ds[\"claims\"][geokb.prop_lookup['instance of']] if i[\"mainsnak\"][\"datavalue\"][\"value\"][\"id\"] == geokb.class_lookup[\"knowledgebase source\"]), None)\n",
    "if ks_claim is not None and \"references\" in ks_claim:\n",
    "    ks_refs = []\n",
    "    for r in ks_claim[\"references\"]:\n",
    "        ref_type_prop_nr = list(r[\"snaks\"].keys())[0]\n",
    "        ks_refs.append({\n",
    "            \"reference type\": {v: k for k, v in geokb.prop_lookup.items()}[ref_type_prop_nr],\n",
    "            \"reference links\": [i[\"datavalue\"][\"value\"] for i in r[\"snaks\"][ref_type_prop_nr]]\n",
    "        })\n",
    "\n",
    "ds_tables = []\n",
    "for ref in ks_refs:\n",
    "    if ref[\"reference type\"] == 'html table':\n",
    "        for url in ref[\"reference links\"]:\n",
    "            ds_tables.extend(pd.read_html(url))\n",
    "\n",
    "lsad_reference = ds_tables[0].astype({\n",
    "    \"LSAD\": \"category\", \n",
    "    \"LSAD Description\": \"str\", \n",
    "    \"Associated Geographic Entity\": \"str\"\n",
    "})"
   ]
  },
  {
   "cell_type": "code",
   "execution_count": 20,
   "metadata": {},
   "outputs": [],
   "source": [
    "query_lsad = \"PREFIX%20wdt%3A%20%3Chttps%3A%2F%2Fgeokb.wikibase.cloud%2Fprop%2Fdirect%2F%3E%0A%0ASELECT%20%3Fitem%20%3Flsad%0AWHERE%20%7B%0A%20%20%3Fitem%20wdt%3AP90%20%3Flsad%20.%0A%7D%0A\"\n",
    "df_lsad = geokb.wb_ref_data(query=query_lsad)\n",
    "missing_lsad = lsad_reference[~lsad_reference.LSAD.isin(df_lsad.lsad)]"
   ]
  },
  {
   "cell_type": "code",
   "execution_count": 23,
   "metadata": {},
   "outputs": [
    {
     "name": "stdout",
     "output_type": "stream",
     "text": [
      "ADDED: 88 Q26619\n",
      "ADDED: 89 Q26620\n",
      "ADDED: 90 Q26621\n",
      "ADDED: 91 Q26622\n",
      "ADDED: 92 Q26623\n",
      "ADDED: 93 Q26624\n",
      "ADDED: 94 Q26625\n",
      "ADDED: 95 Q26626\n",
      "ADDED: 96 Q26627\n",
      "ADDED: 97 Q26628\n",
      "ADDED: 98 Q26629\n",
      "ADDED: 99 Q26630\n",
      "ADDED: 9C Q26631\n",
      "ADDED: 9D Q26632\n",
      "ADDED: 9E Q26633\n",
      "ADDED: 9F Q26634\n",
      "ADDED: B1 Q26635\n",
      "ADDED: B2 Q26636\n",
      "ADDED: B3 Q26637\n",
      "ADDED: B4 Q26638\n",
      "ADDED: B5 Q26639\n",
      "ADDED: B6 Q26640\n",
      "ADDED: B7 Q26641\n",
      "ADDED: B8 Q26642\n",
      "ADDED: BG Q26643\n",
      "ADDED: BI Q26644\n",
      "ADDED: BK Q26645\n",
      "ADDED: BL Q26646\n",
      "ADDED: C1 Q26647\n",
      "ADDED: C2 Q26648\n",
      "ADDED: C3 Q26649\n",
      "ADDED: C4 Q26650\n",
      "ADDED: C5 Q26651\n",
      "ADDED: CB Q26652\n",
      "ADDED: CG Q26653\n",
      "ADDED: CN Q26654\n",
      "ADDED: CR Q26655\n",
      "ADDED: CT Q26656\n",
      "ADDED: IB Q26657\n",
      "ADDED: IT Q26658\n",
      "ADDED: L1 Q26659\n",
      "ADDED: L2 Q26660\n",
      "ADDED: L3 Q26661\n",
      "ADDED: L4 Q26662\n",
      "ADDED: L5 Q26663\n",
      "ADDED: L6 Q26664\n",
      "ADDED: L7 Q26665\n",
      "ADDED: LL Q26666\n",
      "ADDED: LU Q26667\n",
      "ADDED: M0 Q26668\n",
      "ADDED: M1 Q26669\n",
      "ADDED: M2 Q26670\n",
      "ADDED: M3 Q26671\n",
      "ADDED: M4 Q26672\n",
      "ADDED: M5 Q26673\n",
      "ADDED: M6 Q26674\n",
      "ADDED: M7 Q26675\n",
      "ADDED: MB Q26676\n",
      "ADDED: MG Q26677\n"
     ]
    },
    {
     "name": "stderr",
     "output_type": "stream",
     "text": [
      "Service unavailable (HTTP Code 502). Sleeping for 60 seconds.\n"
     ]
    },
    {
     "name": "stdout",
     "output_type": "stream",
     "text": [
      "ADDED: MT Q26678\n",
      "ADDED: P1 Q26679\n",
      "ADDED: P5 Q26680\n",
      "ADDED: T1 Q26681\n",
      "ADDED: T2 Q26682\n",
      "ADDED: T3 Q26683\n",
      "ADDED: TA Q26684\n",
      "ADDED: TB Q26685\n",
      "ADDED: TC Q26686\n",
      "ADDED: TZ Q26687\n",
      "ADDED: UB Q26688\n",
      "ADDED: UC Q26689\n",
      "ADDED: UG Q26690\n",
      "ADDED: V1 Q26691\n",
      "ADDED: V2 Q26692\n",
      "ADDED: Z3 Q26693\n",
      "ADDED: Z5 Q26694\n"
     ]
    }
   ],
   "source": [
    "references = geokb.models.References()\n",
    "references.add(\n",
    "    geokb.datatypes.Item(\n",
    "        prop_nr=geokb.prop_lookup['data source'],\n",
    "        value=datasource_qid\n",
    "    )\n",
    ")\n",
    "\n",
    "for index, row in missing_lsad.iterrows():\n",
    "    item = geokb.wbi.item.new()\n",
    "    if row[\"LSAD Description\"] == \"nan\":\n",
    "        item.labels.set(\"en\", \"general or unknown legal/statistica area\")\n",
    "        item.descriptions.set(\"en\", \"general LSAD category referring to any other classification; essentially unclassified\")\n",
    "    else:\n",
    "        item.labels.set(\"en\", row[\"LSAD Description\"])\n",
    "        if row[\"Associated Geographic Entity\"] == \"Primary Metropolitan Statistical Area\":\n",
    "            item.descriptions.set(\"en\", \"metropolitan area\")\n",
    "        elif row[\"Associated Geographic Entity\"] == \"New England County Metropolitan Area\":\n",
    "            item.descriptions.set(\"en\", \"New England county area\")\n",
    "        else:\n",
    "            item.descriptions.set(\"en\", row[\"Associated Geographic Entity\"])\n",
    "\n",
    "    item.claims.add(\n",
    "        geokb.datatypes.Item(\n",
    "            prop_nr=geokb.prop_lookup['instance of'],\n",
    "            value=instance_of_class,\n",
    "            references=references\n",
    "        )\n",
    "    )\n",
    "\n",
    "    item.claims.add(\n",
    "        geokb.datatypes.ExternalID(\n",
    "            prop_nr=lsad_property,\n",
    "            value=row[\"LSAD\"],\n",
    "            references=references\n",
    "        )\n",
    "    )\n",
    "\n",
    "    try:\n",
    "        response = item.write(summary=\"Added LSAD item from source HTML table\")\n",
    "        print(\"ADDED:\", row[\"LSAD\"], response.id)\n",
    "    except Exception as e:\n",
    "        pass"
   ]
  }
 ],
 "metadata": {
  "kernelspec": {
   "display_name": "geokb",
   "language": "python",
   "name": "python3"
  },
  "language_info": {
   "codemirror_mode": {
    "name": "ipython",
    "version": 3
   },
   "file_extension": ".py",
   "mimetype": "text/x-python",
   "name": "python",
   "nbconvert_exporter": "python",
   "pygments_lexer": "ipython3",
   "version": "3.11.0"
  },
  "orig_nbformat": 4,
  "vscode": {
   "interpreter": {
    "hash": "8190544efbb2661b198b25bdaad02565f208a08fbde73732b97d4d23124b7122"
   }
  }
 },
 "nbformat": 4,
 "nbformat_minor": 2
}
