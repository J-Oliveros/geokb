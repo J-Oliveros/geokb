{
 "cells": [
  {
   "attachments": {},
   "cell_type": "markdown",
   "metadata": {},
   "source": [
    "This notebook works up the USGS web inventory table of \"Science Centers\" to add or clarify claims in the GeoKB for these organizational entities. This is a fairly imperfect source for these organizations as it is by no means authoritative, but it is the best public-facing listing of \"USGS Centers.\" The main things we extract from the table are the center names that we link to existing items where we have them, the USGS Region so that we can establish a part-of linkage, and the states/territories that we incorporate as \"operating area\" claims. We also work from the Regions to add \"has part\" claims for the Centers within Regions."
   ]
  },
  {
   "cell_type": "code",
   "execution_count": 1,
   "metadata": {
    "vscode": {
     "languageId": "python"
    }
   },
   "outputs": [],
   "source": [
    "import requests\n",
    "from bs4 import BeautifulSoup\n",
    "import pandas as pd\n",
    "from wbmaker import WikibaseConnection"
   ]
  },
  {
   "cell_type": "code",
   "execution_count": 2,
   "metadata": {
    "vscode": {
     "languageId": "python"
    }
   },
   "outputs": [],
   "source": [
    "geokb = WikibaseConnection(\"GEOKB_CLOUD\")"
   ]
  },
  {
   "cell_type": "code",
   "execution_count": 3,
   "metadata": {
    "vscode": {
     "languageId": "python"
    }
   },
   "outputs": [],
   "source": [
    "usgs_base_url = \"https://www.usgs.gov\"\n",
    "usgs_sc_url = \"https://www.usgs.gov/science/science-centers\""
   ]
  },
  {
   "attachments": {},
   "cell_type": "markdown",
   "metadata": {},
   "source": [
    "# Science Centers from Web Listing"
   ]
  },
  {
   "cell_type": "code",
   "execution_count": 14,
   "metadata": {
    "vscode": {
     "languageId": "python"
    }
   },
   "outputs": [],
   "source": [
    "science_centers = []\n",
    "\n",
    "r_sc = requests.get(usgs_sc_url)\n",
    "if r_sc.status_code == 200:\n",
    "    soup_sc = BeautifulSoup(r_sc.content, 'html.parser')\n",
    "    sc_table = soup_sc.find('table')\n",
    "    table_body = sc_table.find('tbody')\n",
    "    for row in table_body.find_all('tr'):\n",
    "        columns = row.find_all('td')\n",
    "        science_centers.append({\n",
    "            \"sc_name\": columns[0].text.strip(),\n",
    "            \"sc_link\": f\"{usgs_base_url}{columns[0].find('a')['href']}\",\n",
    "            \"sc_director\": columns[1].text.strip(),\n",
    "            \"sc_region\": columns[2].text.strip(),\n",
    "            \"sc_region_link\": columns[2].find('a')['href'],\n",
    "            \"states_territories\": [i.strip() for i in columns[3].text.replace(' and ', ', ').replace('.', '').replace('Louisana', 'Louisiana').split(\",\")]\n",
    "        })\n",
    "\n",
    "    df_science_centers = pd.DataFrame(science_centers)\n",
    "\n",
    "df_science_centers[\"sc_name_acronym\"] = df_science_centers[\"sc_name\"].str.extract(r'\\((.*?)\\)')\n",
    "df_science_centers[\"sc_label\"] = df_science_centers[\"sc_name\"].apply(lambda x: x.split('(')[0].strip())"
   ]
  },
  {
   "attachments": {},
   "cell_type": "markdown",
   "metadata": {},
   "source": [
    "# GeoKB References for Linking"
   ]
  },
  {
   "cell_type": "code",
   "execution_count": 5,
   "metadata": {
    "vscode": {
     "languageId": "python"
    }
   },
   "outputs": [],
   "source": [
    "q_geokb_orgs = \"PREFIX%20wd%3A%20%3Chttps%3A%2F%2Fgeokb.wikibase.cloud%2Fentity%2F%3E%0APREFIX%20wdt%3A%20%3Chttps%3A%2F%2Fgeokb.wikibase.cloud%2Fprop%2Fdirect%2F%3E%0A%0ASELECT%20%3Fitem%20%3FitemLabel%20%3FitemAltLabel%20%3Furl%20%3Finstance_ofLabel%20%23%20Aliases%20can%20contain%20alternate%20names%20and%20acronyms%20for%20organizations%0AWHERE%20%7B%0A%20%20%3Fitem%20wdt%3AP62*%20wd%3AQ44210%20.%20%23%20%22part%20of%22%20(transitive)%20%22USGS%22%0A%20%20%3Fitem%20wdt%3AP1%20%3Finstance_of%20.%0A%20%20OPTIONAL%20%7B%0A%20%20%20%20%3Fitem%20wdt%3AP31%20%3Furl%20.%0A%20%20%7D%0A%20%20SERVICE%20wikibase%3Alabel%20%7B%20bd%3AserviceParam%20wikibase%3Alanguage%20%22en%22%20.%20%7D%0A%7D\"\n",
    "df_geokb_orgs = geokb.wb_ref_data(query=q_geokb_orgs)\n",
    "df_geokb_orgs[\"qid\"] = df_geokb_orgs[\"item\"].apply(lambda x: x.split(\"/\")[-1])\n",
    "\n",
    "q_states_territories = \"PREFIX%20wdt%3A%20%3Chttps%3A%2F%2Fgeokb.wikibase.cloud%2Fprop%2Fdirect%2F%3E%0A%0ASELECT%20%3Fitem%20%3FitemLabel%20%3Ffips_alpha%0AWHERE%20%7B%0A%20%20%3Fitem%20wdt%3AP13%20%3Ffips_alpha%20.%20%0A%20%20SERVICE%20wikibase%3Alabel%20%7B%20bd%3AserviceParam%20wikibase%3Alanguage%20%22en%22%20.%20%7D%0A%7D\"\n",
    "df_states_territories = geokb.wb_ref_data(query=q_states_territories)\n",
    "df_states_territories[\"qid\"] = df_states_territories[\"item\"].apply(lambda x: x.split(\"/\")[-1])\n"
   ]
  },
  {
   "attachments": {},
   "cell_type": "markdown",
   "metadata": {},
   "source": [
    "# Prep Data"
   ]
  },
  {
   "cell_type": "code",
   "execution_count": 17,
   "metadata": {
    "vscode": {
     "languageId": "python"
    }
   },
   "outputs": [],
   "source": [
    "df_science_centers_to_geokb = pd.merge(\n",
    "    left=df_science_centers,\n",
    "    right=df_geokb_orgs[[\"qid\",\"itemLabel\"]].rename(columns={\"qid\": \"sc_qid\", \"itemLabel\": \"sc_label\"}),\n",
    "    how=\"left\",\n",
    "    on=\"sc_label\"\n",
    ")\n",
    "\n",
    "df_science_centers_to_geokb = pd.merge(\n",
    "    left=df_science_centers_to_geokb,\n",
    "    right=df_geokb_orgs[[\"qid\",\"itemLabel\"]].rename(columns={\"qid\": \"region_qid\", \"itemLabel\": \"sc_region\"}),\n",
    "    how=\"left\",\n",
    "    on=\"sc_region\"\n",
    ")\n",
    "\n",
    "sc_st_list = df_science_centers_to_geokb[[\"sc_qid\",\"states_territories\"]].explode(\"states_territories\")\n",
    "\n",
    "sc_states_territories = pd.merge(\n",
    "    left=sc_st_list[sc_st_list.states_territories.str.len() > 0],\n",
    "    right=df_states_territories[[\"qid\",\"itemLabel\"]].rename(columns={\"qid\": \"state_territory_qid\", \"itemLabel\": \"states_territories\"}),\n",
    "    how=\"left\",\n",
    "    on=\"states_territories\"\n",
    ")[[\"sc_qid\",\"state_territory_qid\"]].groupby(by=\"sc_qid\", as_index=False).agg(list)\n",
    "\n",
    "df_science_centers_to_geokb = pd.merge(\n",
    "    left=df_science_centers_to_geokb,\n",
    "    right=sc_states_territories,\n",
    "    how=\"left\",\n",
    "    on=\"sc_qid\"\n",
    ")\n",
    "\n",
    "df_science_centers_to_geokb[\"instance_of\"] = df_science_centers_to_geokb[\"sc_label\"].apply(lambda x: \"Q50863\" if \"Water Science Center\" in x else \"Q50870\")"
   ]
  },
  {
   "attachments": {},
   "cell_type": "markdown",
   "metadata": {},
   "source": [
    "# Preview"
   ]
  },
  {
   "cell_type": "code",
   "execution_count": 7,
   "metadata": {
    "vscode": {
     "languageId": "python"
    }
   },
   "outputs": [
    {
     "data": {
      "text/html": [
       "<div>\n",
       "<style scoped>\n",
       "    .dataframe tbody tr th:only-of-type {\n",
       "        vertical-align: middle;\n",
       "    }\n",
       "\n",
       "    .dataframe tbody tr th {\n",
       "        vertical-align: top;\n",
       "    }\n",
       "\n",
       "    .dataframe thead th {\n",
       "        text-align: right;\n",
       "    }\n",
       "</style>\n",
       "<table border=\"1\" class=\"dataframe\">\n",
       "  <thead>\n",
       "    <tr style=\"text-align: right;\">\n",
       "      <th></th>\n",
       "      <th>sc_name</th>\n",
       "      <th>sc_link</th>\n",
       "      <th>sc_director</th>\n",
       "      <th>sc_region</th>\n",
       "      <th>sc_region_link</th>\n",
       "      <th>states_territories</th>\n",
       "      <th>sc_name_acronym</th>\n",
       "      <th>sc_label</th>\n",
       "      <th>sc_qid</th>\n",
       "      <th>region_qid</th>\n",
       "      <th>state_territory_qid</th>\n",
       "      <th>instance_of</th>\n",
       "    </tr>\n",
       "  </thead>\n",
       "  <tbody>\n",
       "    <tr>\n",
       "      <th>0</th>\n",
       "      <td>Alaska Science Center</td>\n",
       "      <td>https://www.usgs.gov/centers/asc</td>\n",
       "      <td>Christian Zimmerman</td>\n",
       "      <td>Alaska Region</td>\n",
       "      <td>https://www.usgs.gov/regions/alaska</td>\n",
       "      <td>[Alaska]</td>\n",
       "      <td>NaN</td>\n",
       "      <td>Alaska Science Center</td>\n",
       "      <td>Q44211</td>\n",
       "      <td>Q44362</td>\n",
       "      <td>[Q254]</td>\n",
       "      <td>Q50870</td>\n",
       "    </tr>\n",
       "    <tr>\n",
       "      <th>1</th>\n",
       "      <td>Arizona Water Science Center</td>\n",
       "      <td>https://www.usgs.gov/centers/az-water</td>\n",
       "      <td>James Leenhouts</td>\n",
       "      <td>Southwest Region</td>\n",
       "      <td>https://www.usgs.gov/regions/southwest</td>\n",
       "      <td>[Arizona]</td>\n",
       "      <td>NaN</td>\n",
       "      <td>Arizona Water Science Center</td>\n",
       "      <td>Q44219</td>\n",
       "      <td>Q44358</td>\n",
       "      <td>[Q247]</td>\n",
       "      <td>Q50863</td>\n",
       "    </tr>\n",
       "    <tr>\n",
       "      <th>2</th>\n",
       "      <td>Astrogeology Science Center</td>\n",
       "      <td>https://www.usgs.gov/centers/astrogeology-scie...</td>\n",
       "      <td>Justin Hagerty</td>\n",
       "      <td>Southwest Region</td>\n",
       "      <td>https://www.usgs.gov/regions/southwest</td>\n",
       "      <td>[Arizona]</td>\n",
       "      <td>NaN</td>\n",
       "      <td>Astrogeology Science Center</td>\n",
       "      <td>Q44235</td>\n",
       "      <td>Q44358</td>\n",
       "      <td>[Q247]</td>\n",
       "      <td>Q50870</td>\n",
       "    </tr>\n",
       "    <tr>\n",
       "      <th>3</th>\n",
       "      <td>California Water Science Center</td>\n",
       "      <td>https://www.usgs.gov/centers/ca-water</td>\n",
       "      <td>Anke Mueller-Solger</td>\n",
       "      <td>Southwest Region</td>\n",
       "      <td>https://www.usgs.gov/regions/southwest</td>\n",
       "      <td>[California]</td>\n",
       "      <td>NaN</td>\n",
       "      <td>California Water Science Center</td>\n",
       "      <td>Q44227</td>\n",
       "      <td>Q44358</td>\n",
       "      <td>[Q233]</td>\n",
       "      <td>Q50863</td>\n",
       "    </tr>\n",
       "    <tr>\n",
       "      <th>4</th>\n",
       "      <td>Caribbean-Florida Water Science Center</td>\n",
       "      <td>https://www.usgs.gov/centers/car-fl-water</td>\n",
       "      <td>David Sumner</td>\n",
       "      <td>Southeast Region</td>\n",
       "      <td>https://www.usgs.gov/regions/southeast</td>\n",
       "      <td>[Puerto Rico, Florida]</td>\n",
       "      <td>NaN</td>\n",
       "      <td>Caribbean-Florida Water Science Center</td>\n",
       "      <td>Q44285</td>\n",
       "      <td>Q44343</td>\n",
       "      <td>[Q26698, Q273]</td>\n",
       "      <td>Q50863</td>\n",
       "    </tr>\n",
       "  </tbody>\n",
       "</table>\n",
       "</div>"
      ],
      "text/plain": [
       "                                  sc_name  \\\n",
       "0                   Alaska Science Center   \n",
       "1            Arizona Water Science Center   \n",
       "2             Astrogeology Science Center   \n",
       "3         California Water Science Center   \n",
       "4  Caribbean-Florida Water Science Center   \n",
       "\n",
       "                                             sc_link          sc_director  \\\n",
       "0                   https://www.usgs.gov/centers/asc  Christian Zimmerman   \n",
       "1              https://www.usgs.gov/centers/az-water      James Leenhouts   \n",
       "2  https://www.usgs.gov/centers/astrogeology-scie...       Justin Hagerty   \n",
       "3              https://www.usgs.gov/centers/ca-water  Anke Mueller-Solger   \n",
       "4          https://www.usgs.gov/centers/car-fl-water         David Sumner   \n",
       "\n",
       "          sc_region                          sc_region_link  \\\n",
       "0     Alaska Region     https://www.usgs.gov/regions/alaska   \n",
       "1  Southwest Region  https://www.usgs.gov/regions/southwest   \n",
       "2  Southwest Region  https://www.usgs.gov/regions/southwest   \n",
       "3  Southwest Region  https://www.usgs.gov/regions/southwest   \n",
       "4  Southeast Region  https://www.usgs.gov/regions/southeast   \n",
       "\n",
       "       states_territories sc_name_acronym  \\\n",
       "0                [Alaska]             NaN   \n",
       "1               [Arizona]             NaN   \n",
       "2               [Arizona]             NaN   \n",
       "3            [California]             NaN   \n",
       "4  [Puerto Rico, Florida]             NaN   \n",
       "\n",
       "                                 sc_label  sc_qid region_qid  \\\n",
       "0                   Alaska Science Center  Q44211     Q44362   \n",
       "1            Arizona Water Science Center  Q44219     Q44358   \n",
       "2             Astrogeology Science Center  Q44235     Q44358   \n",
       "3         California Water Science Center  Q44227     Q44358   \n",
       "4  Caribbean-Florida Water Science Center  Q44285     Q44343   \n",
       "\n",
       "  state_territory_qid instance_of  \n",
       "0              [Q254]      Q50870  \n",
       "1              [Q247]      Q50863  \n",
       "2              [Q247]      Q50870  \n",
       "3              [Q233]      Q50863  \n",
       "4      [Q26698, Q273]      Q50863  "
      ]
     },
     "execution_count": 7,
     "metadata": {},
     "output_type": "execute_result"
    }
   ],
   "source": [
    "df_science_centers_to_geokb.head()"
   ]
  },
  {
   "attachments": {},
   "cell_type": "markdown",
   "metadata": {},
   "source": [
    "# Commit Center Claims"
   ]
  },
  {
   "cell_type": "code",
   "execution_count": 21,
   "metadata": {
    "vscode": {
     "languageId": "python"
    }
   },
   "outputs": [
    {
     "name": "stdout",
     "output_type": "stream",
     "text": [
      "Nebraska Water Science Center Q44268\n",
      "Nevada Water Science Center Q44221\n",
      "New England Water Science Center Q44220\n",
      "New Jersey Water Science Center Q44240\n",
      "New Mexico Water Science Center Q44286\n",
      "New York Water Science Center Q44241\n",
      "Northern Prairie Wildlife Research Center Q44256\n",
      "Northern Rocky Mountain Science Center Q44222\n",
      "Ohio-Kentucky-Indiana Water Science Center Q44345\n",
      "Oklahoma-Texas Water Science Center Q44275\n",
      "Oregon Water Science Center Q44242\n",
      "Pacific Coastal and Marine Science Center Q44243\n",
      "Pacific Island Ecosystems Research Center Q44317\n",
      "Pacific Islands Water Science Center Q44282\n",
      "Pennsylvania Water Science Center Q44270\n",
      "Science and Decisions Center Q44296\n",
      "South Atlantic Water Science Center Q44236\n",
      "Southwest Biological Science Center Q44252\n",
      "St. Petersburg Coastal and Marine Science Center Q44247\n",
      "Upper Midwest Environmental Sciences Center Q44383\n",
      "Upper Midwest Water Science Center Q44326\n",
      "Utah Water Science Center Q44269\n",
      "Virginia and West Virginia Water Science Center Q44266\n",
      "Volcano Science Center Q44254\n",
      "Washington Water Science Center Q44334\n"
     ]
    },
    {
     "name": "stderr",
     "output_type": "stream",
     "text": [
      "Service unavailable (HTTP Code 504). Sleeping for 60 seconds.\n"
     ]
    },
    {
     "name": "stdout",
     "output_type": "stream",
     "text": [
      "Western Ecological Research Center Q44324\n",
      "Western Fisheries Research Center Q44284\n",
      "Western Geographic Science Center Q44245\n",
      "Wetland and Aquatic Research Center Q44217\n",
      "Woods Hole Coastal and Marine Science Center Q44230\n",
      "Wyoming-Montana Water Science Center Q44290\n"
     ]
    }
   ],
   "source": [
    "from wikibaseintegrator.wbi_enums import ActionIfExists, WikibaseDatePrecision\n",
    "\n",
    "refs = geokb.models.References()\n",
    "refs.add(\n",
    "    geokb.datatypes.URL(\n",
    "        prop_nr=geokb.prop_lookup['reference URL'],\n",
    "        value=usgs_sc_url\n",
    "    )\n",
    ")\n",
    "\n",
    "quals = geokb.models.Qualifiers()\n",
    "quals.add(\n",
    "    geokb.datatypes.Time(\n",
    "        prop_nr=geokb.prop_lookup['point in time'],\n",
    "        time='+2023-01-01T00:00:00Z',\n",
    "        precision=WikibaseDatePrecision.YEAR\n",
    "    )\n",
    ")\n",
    "\n",
    "for index, row in df_science_centers_to_geokb.iterrows():\n",
    "    item = geokb.wbi.item.get(row['sc_qid'])\n",
    "\n",
    "    instance_of_claim = geokb.datatypes.Item(\n",
    "        prop_nr=geokb.prop_lookup['instance of'],\n",
    "        value=row[\"instance_of\"],\n",
    "        qualifiers=quals,\n",
    "        references=refs\n",
    "    )\n",
    "\n",
    "    item.claims.add(\n",
    "       claims=instance_of_claim,\n",
    "       action_if_exists=ActionIfExists.REPLACE_ALL\n",
    "    )\n",
    "\n",
    "    part_of_claim = geokb.datatypes.Item(\n",
    "        prop_nr=geokb.prop_lookup['part of'],\n",
    "        value=row[\"region_qid\"],\n",
    "        qualifiers=quals,\n",
    "        references=refs\n",
    "    )\n",
    "\n",
    "    item.claims.add(\n",
    "        claims=part_of_claim,\n",
    "        action_if_exists=ActionIfExists.REPLACE_ALL\n",
    "    )\n",
    "\n",
    "    ao_claims = []\n",
    "    for st_qid in row[\"state_territory_qid\"]:\n",
    "        if isinstance(st_qid, str) and len(st_qid) > 0:\n",
    "            ao_claims.append(\n",
    "                geokb.datatypes.Item(\n",
    "                    prop_nr=geokb.prop_lookup['operating area'],\n",
    "                    value=st_qid,\n",
    "                    qualifiers=quals,\n",
    "                    references=refs\n",
    "                )\n",
    "            )\n",
    "\n",
    "    item.claims.add(\n",
    "        claims=ao_claims,\n",
    "        action_if_exists=ActionIfExists.REPLACE_ALL\n",
    "    )\n",
    "\n",
    "    response = item.write(\n",
    "        summary=\"Built out Science Center claims from USGS web listing\"\n",
    "    )\n",
    "    print(row[\"sc_label\"], response.id)"
   ]
  },
  {
   "attachments": {},
   "cell_type": "markdown",
   "metadata": {},
   "source": [
    "# Regional \"has part\" Claims"
   ]
  },
  {
   "cell_type": "code",
   "execution_count": 23,
   "metadata": {
    "vscode": {
     "languageId": "python"
    }
   },
   "outputs": [
    {
     "name": "stdout",
     "output_type": "stream",
     "text": [
      "Q44338\n",
      "Q44343\n",
      "Q44348\n",
      "Q44357\n",
      "Q44358\n",
      "Q44362\n",
      "Q44363\n"
     ]
    }
   ],
   "source": [
    "for index, row in df_science_centers_to_geokb[[\"region_qid\",\"sc_qid\"]].groupby(\"region_qid\", as_index=False).agg(list).iterrows():\n",
    "    item = geokb.wbi.item.get(row[\"region_qid\"])\n",
    "    \n",
    "    has_part_claims = []\n",
    "    for sc_qid in row[\"sc_qid\"]:\n",
    "        has_part_claims.append(\n",
    "            geokb.datatypes.Item(\n",
    "                prop_nr=geokb.prop_lookup['has part'],\n",
    "                value=sc_qid,\n",
    "                qualifiers=quals,\n",
    "                references=refs\n",
    "            )\n",
    "        )\n",
    "\n",
    "    item.claims.add(\n",
    "        claims=has_part_claims,\n",
    "        action_if_exists=ActionIfExists.REPLACE_ALL\n",
    "    )\n",
    "\n",
    "    response = item.write(\n",
    "        summary=\"Added Science Centers as has part claims to Region\"\n",
    "    )\n",
    "    print(response.id)"
   ]
  }
 ],
 "metadata": {
  "kernelspec": {
   "display_name": "Python [conda env:geokb]",
   "language": "python",
   "name": "conda-env-geokb-py"
  },
  "orig_nbformat": 4
 },
 "nbformat": 4,
 "nbformat_minor": 2
}
