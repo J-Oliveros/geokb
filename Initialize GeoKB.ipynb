{
 "cells": [
  {
   "attachments": {},
   "cell_type": "markdown",
   "metadata": {},
   "source": [
    "This notebook is a work in progress process for initializing the Geoscience Knowledgebase with a set of properties and foundational semantics that establishes a base to build from in curating geoscientific knowledge. Our initial use cases have to do with integrating mineral occurrence information along with document references contributing to those and other facts and concepts associated with conducting mineral resource assessment. In order to build a useful knowledge graph on these concepts, though, we also need to tie in lots of other things needed for the claims associated with these things to legitimately link to other things.\n",
    "\n",
    "For instance, we use NI \"43-101 Technical Reports\" and a newer \"SK-1300 Technical Report\" as sources for claims associated with mining projects/properties such as geographic location, mineral commodities identified and/or extracted, figures indicating estimates of ore grade and tonnage, and other details. These are technical geoscientific reports required by the Canadian and U.S. governments, respectively. We need an \"instance of\" (rdf:type) claim on everything like this in the system. While we could simply create items in the graph to represent these two classes with no further classification, it is useful to \"work back up the semantic hierarchy\" for as many concepts as we can as far as we need to in order for the information we are recording in the GeoKB to be understandable in the broader global knowledge commons (Wikidata and/or other efforts).\n",
    "\n",
    "The initialization process here is designed to give us a semantic baseline to work from as we pull in the information and connections we really care about within this context. We're taking a pragmatic approach that is slightly more rigorous (and certainly more streamlined) than the wild west of Wikidata but somewhere short of endlessly academic. We have to get a whole bunch of information into the GeoKB to support analytical use, so we make a best effort to align what we have with mature ontologies and namespaces, knowing we'll have to evolve it over time. The notebook approach on this gives us a good basis to record our reasoning and the places we have to make pragmatic tradeoffs."
   ]
  },
  {
   "cell_type": "code",
   "execution_count": 1,
   "metadata": {},
   "outputs": [],
   "source": [
    "import os\n",
    "import pywikibot as pwb\n",
    "import json\n",
    "import pandas as pd\n",
    "from SPARQLWrapper import SPARQLWrapper, JSON\n",
    "from nested_lookup import nested_lookup"
   ]
  },
  {
   "attachments": {},
   "cell_type": "markdown",
   "metadata": {},
   "source": [
    "## Parameters\n",
    "\n",
    "If we want to run this and other notebooks as Lambdas eventually, we'll need to set up some paramters. I moved the stuff we want to keep somewhat secret to environment variables as a safety measure."
   ]
  },
  {
   "cell_type": "code",
   "execution_count": 2,
   "metadata": {
    "tags": [
     "parameters"
    ]
   },
   "outputs": [],
   "source": [
    "sparql_endpoint = os.environ['SPARQL_ENDPOINT']\n",
    "wb_domain = os.environ['WB_DOMAIN']\n",
    "geokb_init_sheet_id = '1dbuKc4cZJz0YY81B2xWXM5fId6gWgzmQar3hg3CI0Rw'"
   ]
  },
  {
   "attachments": {},
   "cell_type": "markdown",
   "metadata": {},
   "source": [
    "## Functions\n",
    "\n",
    "All or most of these functions should be movable to the abstract Wikibase management python package we are designing. That needs to be applicable to the GeoKB but generic enough to apply in other types of domains and circumstances. There are other communities doing similar work such as the wikidataintegrator project in the health sciences. We just found a need to start from the basics of pywikibot and how it operates.\n",
    "\n",
    "I realize I'm introducing what could be higher overhead than necessary here with use of Pandas and other specialized packages. We can reevaluate that at the foundational level of the KB management package."
   ]
  },
  {
   "cell_type": "code",
   "execution_count": 72,
   "metadata": {},
   "outputs": [],
   "source": [
    "def get_wb(site_name: str, language='en'):\n",
    "    site = pwb.Site(language, site_name)\n",
    "    site.login()\n",
    "    return site\n",
    "\n",
    "def build_entity(\n",
    "        label: str, \n",
    "        description: str, \n",
    "        language: str = 'en',\n",
    "        datatype = None\n",
    "    ) -> dict:\n",
    "    item = {\n",
    "        'labels': {\n",
    "            language: {\n",
    "                'language': language,\n",
    "                'value': label\n",
    "            }\n",
    "        },\n",
    "        'descriptions': {\n",
    "            language: {\n",
    "                'language': language,\n",
    "                'value': description\n",
    "            }\n",
    "        }\n",
    "    }\n",
    "\n",
    "    if datatype:\n",
    "        # Need to work out our own logic on what datatypes we will accept\n",
    "        item[\"datatype\"] = datatype\n",
    " \n",
    "    return item\n",
    "\n",
    "def add_entity(entitytype: str, summary: str, site: pwb.APISite, item: dict) -> dict:\n",
    "    if entitytype not in ['item','property']:\n",
    "        raise ValueError\n",
    "    \n",
    "    if entitytype == 'property' and 'datatype' not in item:\n",
    "        raise ValueError\n",
    "\n",
    "    params = {\n",
    "        'action': 'wbeditentity',\n",
    "        'new': entitytype,\n",
    "        'data': json.dumps(item),\n",
    "        'summary': summary,\n",
    "        'token': site.tokens['csrf'],\n",
    "    }\n",
    "\n",
    "    try:\n",
    "        req = site.simple_request(**params)\n",
    "        results = req.submit()\n",
    "        return results\n",
    "    except Exception as e:\n",
    "        item[\"error\"] = e\n",
    "        return e\n",
    "\n",
    "def update_aliases(site: pwb.APISite, entity_id: str, aliases):\n",
    "    item = pwb.ItemPage(site.data_repository(), entity_id)\n",
    "    alias = {\"en\": aliases.split(',') if isinstance(aliases, str) else aliases}\n",
    "\n",
    "    messages = []\n",
    "    for key in alias:\n",
    "        message = \"Settings aliases: {} = '{}'\".format(key, alias[key])\n",
    "        try:\n",
    "            item.editAliases(\n",
    "                {key: alias[key]},\n",
    "                summary=message\n",
    "            )\n",
    "            messages.append({\"message\": message})\n",
    "        except Exception as e:\n",
    "            messages.append({\n",
    "                \"message\": message,\n",
    "                \"error\": e\n",
    "            })\n",
    "    return messages\n",
    "    \n",
    "def sparql_query(endpoint: str, output: str, query: str):\n",
    "    sparql = SPARQLWrapper(endpoint)\n",
    "    sparql.setReturnFormat(JSON)\n",
    "\n",
    "    sparql.setQuery(query)\n",
    "    results = sparql.queryAndConvert()\n",
    "\n",
    "    if output == 'raw':\n",
    "        return results\n",
    "    elif output == 'dataframe':\n",
    "        names = results[\"head\"][\"vars\"]\n",
    "        data = []\n",
    "        for name in names:\n",
    "            data.append(\n",
    "                nested_lookup('value', nested_lookup(name, results['results']['bindings']))\n",
    "            )\n",
    "        return pd.DataFrame.from_dict(dict(zip(names, data)))"
   ]
  },
  {
   "attachments": {},
   "cell_type": "markdown",
   "metadata": {},
   "source": [
    "## Foundational Properties and Classes\n",
    "\n",
    "Looking toward the initial use cases for the GeoKB, we need to lay down a basic structure for properties and classification such that the items we need to introduce will all have an appropriate instance of claim pointing to a reasonable concept for basic organization. We could go on forever trying to get the semantics just right and aligned with as many sources of definition as possible, but we'll ease into that level of sophistication over time. In the near term, I've started a Google Sheet to contain the basic structure to get our knowledgebase initialized. We will likely need to iterate on this several times to get it right, and we will doubtless miss some things.\n",
    "\n",
    "There are lots of ways to spin up these details, but a Google Sheet seems simple enough, it can be edited by multiple people, and we can read it as a CSV and process it here in the notebook. I've built this with a Properties and a Classification sheet that we'll iterate on as we improve the foundation."
   ]
  },
  {
   "cell_type": "code",
   "execution_count": 4,
   "metadata": {},
   "outputs": [],
   "source": [
    "def ref_table(reference, sheet_id=geokb_init_sheet_id):\n",
    "    return f'https://docs.google.com/spreadsheets/d/{sheet_id}/gviz/tq?tqx=out:csv&sheet={reference}'\n",
    "\n",
    "geokb_properties = pd.read_csv(ref_table('Properties'))\n",
    "geokb_classes = pd.read_csv(ref_table('Classification'))"
   ]
  },
  {
   "cell_type": "code",
   "execution_count": 5,
   "metadata": {},
   "outputs": [
    {
     "data": {
      "text/html": [
       "<div>\n",
       "<style scoped>\n",
       "    .dataframe tbody tr th:only-of-type {\n",
       "        vertical-align: middle;\n",
       "    }\n",
       "\n",
       "    .dataframe tbody tr th {\n",
       "        vertical-align: top;\n",
       "    }\n",
       "\n",
       "    .dataframe thead th {\n",
       "        text-align: right;\n",
       "    }\n",
       "</style>\n",
       "<table border=\"1\" class=\"dataframe\">\n",
       "  <thead>\n",
       "    <tr style=\"text-align: right;\">\n",
       "      <th></th>\n",
       "      <th>label</th>\n",
       "      <th>description</th>\n",
       "      <th>datatype</th>\n",
       "      <th>wd_id</th>\n",
       "    </tr>\n",
       "  </thead>\n",
       "  <tbody>\n",
       "    <tr>\n",
       "      <th>0</th>\n",
       "      <td>instance of</td>\n",
       "      <td>this item is a class of that item;type of the ...</td>\n",
       "      <td>wikibase-item</td>\n",
       "      <td>P31</td>\n",
       "    </tr>\n",
       "    <tr>\n",
       "      <th>1</th>\n",
       "      <td>subclass of</td>\n",
       "      <td>this item is a subclass (subset) of that item</td>\n",
       "      <td>wikibase-item</td>\n",
       "      <td>P279</td>\n",
       "    </tr>\n",
       "    <tr>\n",
       "      <th>2</th>\n",
       "      <td>coordinate location</td>\n",
       "      <td>a geographic point indicating the location of ...</td>\n",
       "      <td>globe-coordinate</td>\n",
       "      <td>P625</td>\n",
       "    </tr>\n",
       "    <tr>\n",
       "      <th>3</th>\n",
       "      <td>reference item</td>\n",
       "      <td>a knowledgebase item that serves as the source...</td>\n",
       "      <td>wikibase-item</td>\n",
       "      <td>NaN</td>\n",
       "    </tr>\n",
       "    <tr>\n",
       "      <th>4</th>\n",
       "      <td>reference url</td>\n",
       "      <td>a web link provided as the source reference fo...</td>\n",
       "      <td>url</td>\n",
       "      <td>NaN</td>\n",
       "    </tr>\n",
       "    <tr>\n",
       "      <th>5</th>\n",
       "      <td>reference statement</td>\n",
       "      <td>a short statement about the source for a claim...</td>\n",
       "      <td>string</td>\n",
       "      <td>NaN</td>\n",
       "    </tr>\n",
       "    <tr>\n",
       "      <th>6</th>\n",
       "      <td>publication date</td>\n",
       "      <td>date or point in time when a work represented ...</td>\n",
       "      <td>time</td>\n",
       "      <td>P577</td>\n",
       "    </tr>\n",
       "    <tr>\n",
       "      <th>7</th>\n",
       "      <td>subject matter</td>\n",
       "      <td>topic or subject addressed by the item</td>\n",
       "      <td>wikibase-item</td>\n",
       "      <td>P921</td>\n",
       "    </tr>\n",
       "    <tr>\n",
       "      <th>8</th>\n",
       "      <td>ranking</td>\n",
       "      <td>used as statement qualifier indicating relativ...</td>\n",
       "      <td>quantity</td>\n",
       "      <td>P1352</td>\n",
       "    </tr>\n",
       "  </tbody>\n",
       "</table>\n",
       "</div>"
      ],
      "text/plain": [
       "                 label                                        description  \\\n",
       "0          instance of  this item is a class of that item;type of the ...   \n",
       "1          subclass of      this item is a subclass (subset) of that item   \n",
       "2  coordinate location  a geographic point indicating the location of ...   \n",
       "3       reference item  a knowledgebase item that serves as the source...   \n",
       "4        reference url  a web link provided as the source reference fo...   \n",
       "5  reference statement  a short statement about the source for a claim...   \n",
       "6     publication date  date or point in time when a work represented ...   \n",
       "7       subject matter             topic or subject addressed by the item   \n",
       "8              ranking  used as statement qualifier indicating relativ...   \n",
       "\n",
       "           datatype  wd_id  \n",
       "0     wikibase-item    P31  \n",
       "1     wikibase-item   P279  \n",
       "2  globe-coordinate   P625  \n",
       "3     wikibase-item    NaN  \n",
       "4               url    NaN  \n",
       "5            string    NaN  \n",
       "6              time   P577  \n",
       "7     wikibase-item   P921  \n",
       "8          quantity  P1352  "
      ]
     },
     "metadata": {},
     "output_type": "display_data"
    },
    {
     "data": {
      "text/html": [
       "<div>\n",
       "<style scoped>\n",
       "    .dataframe tbody tr th:only-of-type {\n",
       "        vertical-align: middle;\n",
       "    }\n",
       "\n",
       "    .dataframe tbody tr th {\n",
       "        vertical-align: top;\n",
       "    }\n",
       "\n",
       "    .dataframe thead th {\n",
       "        text-align: right;\n",
       "    }\n",
       "</style>\n",
       "<table border=\"1\" class=\"dataframe\">\n",
       "  <thead>\n",
       "    <tr style=\"text-align: right;\">\n",
       "      <th></th>\n",
       "      <th>label</th>\n",
       "      <th>description</th>\n",
       "      <th>aliases</th>\n",
       "      <th>subclass of</th>\n",
       "      <th>wd_id</th>\n",
       "    </tr>\n",
       "  </thead>\n",
       "  <tbody>\n",
       "    <tr>\n",
       "      <th>0</th>\n",
       "      <td>entity</td>\n",
       "      <td>anything that can be considered, discussed, or...</td>\n",
       "      <td>thing</td>\n",
       "      <td>NaN</td>\n",
       "      <td>Q35120</td>\n",
       "    </tr>\n",
       "    <tr>\n",
       "      <th>1</th>\n",
       "      <td>person</td>\n",
       "      <td>common name of Homo sapiens, unique extant spe...</td>\n",
       "      <td>human</td>\n",
       "      <td>entity</td>\n",
       "      <td>Q5</td>\n",
       "    </tr>\n",
       "    <tr>\n",
       "      <th>2</th>\n",
       "      <td>organization</td>\n",
       "      <td>social entity established to meet needs or pur...</td>\n",
       "      <td>NaN</td>\n",
       "      <td>entity</td>\n",
       "      <td>Q43229</td>\n",
       "    </tr>\n",
       "    <tr>\n",
       "      <th>3</th>\n",
       "      <td>document</td>\n",
       "      <td>form for preservation of structured and identi...</td>\n",
       "      <td>NaN</td>\n",
       "      <td>entity</td>\n",
       "      <td>Q49848</td>\n",
       "    </tr>\n",
       "    <tr>\n",
       "      <th>4</th>\n",
       "      <td>publication</td>\n",
       "      <td>content made available to the general public</td>\n",
       "      <td>NaN</td>\n",
       "      <td>entity</td>\n",
       "      <td>Q732577</td>\n",
       "    </tr>\n",
       "    <tr>\n",
       "      <th>5</th>\n",
       "      <td>scholarly article</td>\n",
       "      <td>article in an academic publication, usually pe...</td>\n",
       "      <td>research article,scientific article,journal ar...</td>\n",
       "      <td>publication</td>\n",
       "      <td>Q13442814</td>\n",
       "    </tr>\n",
       "    <tr>\n",
       "      <th>6</th>\n",
       "      <td>report</td>\n",
       "      <td>informational, formal, and detailed text</td>\n",
       "      <td>NaN</td>\n",
       "      <td>document</td>\n",
       "      <td>Q10870555</td>\n",
       "    </tr>\n",
       "    <tr>\n",
       "      <th>7</th>\n",
       "      <td>government report</td>\n",
       "      <td>document written by a government to convey inf...</td>\n",
       "      <td>NaN</td>\n",
       "      <td>report</td>\n",
       "      <td>Q15629444</td>\n",
       "    </tr>\n",
       "    <tr>\n",
       "      <th>8</th>\n",
       "      <td>NI 43-101 Technical Report</td>\n",
       "      <td>National Instrument 43-101 (the \"NI 43-101\" or...</td>\n",
       "      <td>NaN</td>\n",
       "      <td>report</td>\n",
       "      <td>NaN</td>\n",
       "    </tr>\n",
       "    <tr>\n",
       "      <th>9</th>\n",
       "      <td>USGS Report Series</td>\n",
       "      <td>official, USGS-authored publications of the U....</td>\n",
       "      <td>USGS Series Report</td>\n",
       "      <td>government report</td>\n",
       "      <td>NaN</td>\n",
       "    </tr>\n",
       "    <tr>\n",
       "      <th>10</th>\n",
       "      <td>dataset</td>\n",
       "      <td>collection of data</td>\n",
       "      <td>NaN</td>\n",
       "      <td>entity</td>\n",
       "      <td>Q1172284</td>\n",
       "    </tr>\n",
       "    <tr>\n",
       "      <th>11</th>\n",
       "      <td>scientific model</td>\n",
       "      <td>a representation of a particular phenomena</td>\n",
       "      <td>NaN</td>\n",
       "      <td>entity</td>\n",
       "      <td>Q193946</td>\n",
       "    </tr>\n",
       "    <tr>\n",
       "      <th>12</th>\n",
       "      <td>project</td>\n",
       "      <td>collaborative enterprise, frequently involving...</td>\n",
       "      <td>NaN</td>\n",
       "      <td>entity</td>\n",
       "      <td>Q170584</td>\n",
       "    </tr>\n",
       "    <tr>\n",
       "      <th>13</th>\n",
       "      <td>research project</td>\n",
       "      <td>project of one or more scientists, or of an or...</td>\n",
       "      <td>science project,scientific study</td>\n",
       "      <td>project</td>\n",
       "      <td>Q1298668</td>\n",
       "    </tr>\n",
       "    <tr>\n",
       "      <th>14</th>\n",
       "      <td>phenomenon</td>\n",
       "      <td>any object, fact, or occurrence perceived or o...</td>\n",
       "      <td>NaN</td>\n",
       "      <td>entity</td>\n",
       "      <td>Q483247</td>\n",
       "    </tr>\n",
       "    <tr>\n",
       "      <th>15</th>\n",
       "      <td>natural phenomenon</td>\n",
       "      <td>observable event which is not human-made</td>\n",
       "      <td>NaN</td>\n",
       "      <td>phenomenon</td>\n",
       "      <td>Q1322005</td>\n",
       "    </tr>\n",
       "    <tr>\n",
       "      <th>16</th>\n",
       "      <td>material</td>\n",
       "      <td>substance that can occur in different amounts,...</td>\n",
       "      <td>NaN</td>\n",
       "      <td>entity</td>\n",
       "      <td>Q214609</td>\n",
       "    </tr>\n",
       "    <tr>\n",
       "      <th>17</th>\n",
       "      <td>natural material</td>\n",
       "      <td>product or physical matter that arises without...</td>\n",
       "      <td>NaN</td>\n",
       "      <td>material</td>\n",
       "      <td>Q3405827</td>\n",
       "    </tr>\n",
       "    <tr>\n",
       "      <th>18</th>\n",
       "      <td>mineral occurrence</td>\n",
       "      <td>concentration of a mineral (usually, but not n...</td>\n",
       "      <td>NaN</td>\n",
       "      <td>natural phenomenon</td>\n",
       "      <td>NaN</td>\n",
       "    </tr>\n",
       "    <tr>\n",
       "      <th>19</th>\n",
       "      <td>mineral deposit</td>\n",
       "      <td>a mineral occurrence of sufficient size and gr...</td>\n",
       "      <td>NaN</td>\n",
       "      <td>mineral occurrence</td>\n",
       "      <td>Q15104915</td>\n",
       "    </tr>\n",
       "    <tr>\n",
       "      <th>20</th>\n",
       "      <td>ore</td>\n",
       "      <td>rock containing one or more valuable minerals</td>\n",
       "      <td>NaN</td>\n",
       "      <td>natural phenomenon</td>\n",
       "      <td>Q102798</td>\n",
       "    </tr>\n",
       "    <tr>\n",
       "      <th>21</th>\n",
       "      <td>ore deposit</td>\n",
       "      <td>a mineral deposit that has been tested and is ...</td>\n",
       "      <td>NaN</td>\n",
       "      <td>mineral deposit</td>\n",
       "      <td>Q12149220</td>\n",
       "    </tr>\n",
       "    <tr>\n",
       "      <th>22</th>\n",
       "      <td>mineral</td>\n",
       "      <td>naturally occurring usually inorganic substanc...</td>\n",
       "      <td>NaN</td>\n",
       "      <td>natural material</td>\n",
       "      <td>Q7946</td>\n",
       "    </tr>\n",
       "    <tr>\n",
       "      <th>23</th>\n",
       "      <td>mineral deposit model</td>\n",
       "      <td>systematically arranged information describing...</td>\n",
       "      <td>NaN</td>\n",
       "      <td>scientific model</td>\n",
       "      <td>NaN</td>\n",
       "    </tr>\n",
       "  </tbody>\n",
       "</table>\n",
       "</div>"
      ],
      "text/plain": [
       "                         label  \\\n",
       "0                       entity   \n",
       "1                       person   \n",
       "2                 organization   \n",
       "3                     document   \n",
       "4                  publication   \n",
       "5            scholarly article   \n",
       "6                       report   \n",
       "7            government report   \n",
       "8   NI 43-101 Technical Report   \n",
       "9           USGS Report Series   \n",
       "10                     dataset   \n",
       "11            scientific model   \n",
       "12                     project   \n",
       "13            research project   \n",
       "14                  phenomenon   \n",
       "15          natural phenomenon   \n",
       "16                    material   \n",
       "17            natural material   \n",
       "18          mineral occurrence   \n",
       "19             mineral deposit   \n",
       "20                         ore   \n",
       "21                 ore deposit   \n",
       "22                     mineral   \n",
       "23       mineral deposit model   \n",
       "\n",
       "                                          description  \\\n",
       "0   anything that can be considered, discussed, or...   \n",
       "1   common name of Homo sapiens, unique extant spe...   \n",
       "2   social entity established to meet needs or pur...   \n",
       "3   form for preservation of structured and identi...   \n",
       "4        content made available to the general public   \n",
       "5   article in an academic publication, usually pe...   \n",
       "6            informational, formal, and detailed text   \n",
       "7   document written by a government to convey inf...   \n",
       "8   National Instrument 43-101 (the \"NI 43-101\" or...   \n",
       "9   official, USGS-authored publications of the U....   \n",
       "10                                 collection of data   \n",
       "11         a representation of a particular phenomena   \n",
       "12  collaborative enterprise, frequently involving...   \n",
       "13  project of one or more scientists, or of an or...   \n",
       "14  any object, fact, or occurrence perceived or o...   \n",
       "15           observable event which is not human-made   \n",
       "16  substance that can occur in different amounts,...   \n",
       "17  product or physical matter that arises without...   \n",
       "18  concentration of a mineral (usually, but not n...   \n",
       "19  a mineral occurrence of sufficient size and gr...   \n",
       "20      rock containing one or more valuable minerals   \n",
       "21  a mineral deposit that has been tested and is ...   \n",
       "22  naturally occurring usually inorganic substanc...   \n",
       "23  systematically arranged information describing...   \n",
       "\n",
       "                                              aliases         subclass of  \\\n",
       "0                                               thing                 NaN   \n",
       "1                                               human              entity   \n",
       "2                                                 NaN              entity   \n",
       "3                                                 NaN              entity   \n",
       "4                                                 NaN              entity   \n",
       "5   research article,scientific article,journal ar...         publication   \n",
       "6                                                 NaN            document   \n",
       "7                                                 NaN              report   \n",
       "8                                                 NaN              report   \n",
       "9                                  USGS Series Report   government report   \n",
       "10                                                NaN              entity   \n",
       "11                                                NaN              entity   \n",
       "12                                                NaN              entity   \n",
       "13                   science project,scientific study             project   \n",
       "14                                                NaN              entity   \n",
       "15                                                NaN          phenomenon   \n",
       "16                                                NaN              entity   \n",
       "17                                                NaN            material   \n",
       "18                                                NaN  natural phenomenon   \n",
       "19                                                NaN  mineral occurrence   \n",
       "20                                                NaN  natural phenomenon   \n",
       "21                                                NaN     mineral deposit   \n",
       "22                                                NaN    natural material   \n",
       "23                                                NaN    scientific model   \n",
       "\n",
       "        wd_id  \n",
       "0      Q35120  \n",
       "1          Q5  \n",
       "2      Q43229  \n",
       "3      Q49848  \n",
       "4     Q732577  \n",
       "5   Q13442814  \n",
       "6   Q10870555  \n",
       "7   Q15629444  \n",
       "8         NaN  \n",
       "9         NaN  \n",
       "10   Q1172284  \n",
       "11    Q193946  \n",
       "12    Q170584  \n",
       "13   Q1298668  \n",
       "14    Q483247  \n",
       "15   Q1322005  \n",
       "16    Q214609  \n",
       "17   Q3405827  \n",
       "18        NaN  \n",
       "19  Q15104915  \n",
       "20    Q102798  \n",
       "21  Q12149220  \n",
       "22      Q7946  \n",
       "23        NaN  "
      ]
     },
     "metadata": {},
     "output_type": "display_data"
    }
   ],
   "source": [
    "display(geokb_properties)\n",
    "display(geokb_classes)"
   ]
  },
  {
   "attachments": {},
   "cell_type": "markdown",
   "metadata": {},
   "source": [
    "## Connecting to Wikibase\n",
    "\n",
    "Many read operations can be accommodated by the public SPARQL interface with no need for specialized wikibase connections. At the moment, the Elasticsearch part of the tech stack is not connecting properly, and some of the dependent API functionality in the pywikibot package is not working. The write operations for properties and items are working fine, and we need to establish a connection to the APISite via pywikibot and the user/password bot config we set up previously.\n",
    "\n",
    "These create user-config.py and user-password.py files in the directory from which pywikibot is run, which is not the most secure way to handle things. We may experiment with the more secure OAuth methods down the road once we get the mechanics worked out. The following sets up the connection for later use and tests it for functionality. I'm not sure yet on the significance of the errors I'm seeing."
   ]
  },
  {
   "cell_type": "code",
   "execution_count": 47,
   "metadata": {},
   "outputs": [
    {
     "name": "stdout",
     "output_type": "stream",
     "text": [
      "<class 'pywikibot.site._apisite.APISite'>\n",
      "<class 'pywikibot.site._datasite.DataSite'>\n"
     ]
    }
   ],
   "source": [
    "# Required connection points in the pwb API\n",
    "geokb_site = get_wb('geokb')\n",
    "\n",
    "print(type(geokb_site))\n",
    "print(type(geokb_site.data_repository()))"
   ]
  },
  {
   "attachments": {},
   "cell_type": "markdown",
   "metadata": {},
   "source": [
    "## Baseline Knowledgebase\n",
    "\n",
    "We may or may not be starting from a blank slate Wikibase installation. We know we need to have everything laid out in our Properties and Classification tables, but some of it may already exist. We also need to build claims on these items that use property and item identifiers, so we need to determine exactly what's in the current system. My initial attempt to use the search functionality based on pywikibot and the currently non-functional API failed, so I'm experimenting with a SPARQL approach. This is somewhat handy in that we can leverage the SPARQL query builder to figure out our queries, first with a test against the full Wikidata platform and then our own instance. Those queries can be pulled in here based on how I set up the function to get us a result to work from."
   ]
  },
  {
   "cell_type": "code",
   "execution_count": 7,
   "metadata": {},
   "outputs": [],
   "source": [
    "def query_by_item_label(label: str) -> str:\n",
    "    query_string = \"\"\"\n",
    "        SELECT ?item ?itemLabel ?itemDescription WHERE{  \n",
    "        ?item ?label \"%s\"@en.  \n",
    "        SERVICE wikibase:label { bd:serviceParam wikibase:language \"en\". }    \n",
    "        }\n",
    "    \"\"\" % (label)\n",
    "\n",
    "    return query_string\n",
    "\n",
    "property_query = \"\"\"\n",
    "SELECT ?property ?propertyLabel ?propertyDescription WHERE {\n",
    "    ?property a wikibase:Property .\n",
    "    SERVICE wikibase:label { bd:serviceParam wikibase:language \"en\" .}\n",
    " }\n",
    " \"\"\"\n"
   ]
  },
  {
   "attachments": {},
   "cell_type": "markdown",
   "metadata": {},
   "source": [
    "I can get a list of all properties in the instance, but I can't yet figure out a way to get a list of all items. With a full set of properties, we can figure out what we have that's in baseline set, get rid of anything extraneous, and add anything new. We could do the same with items to a certain point."
   ]
  },
  {
   "cell_type": "code",
   "execution_count": 24,
   "metadata": {},
   "outputs": [
    {
     "data": {
      "text/html": [
       "<div>\n",
       "<style scoped>\n",
       "    .dataframe tbody tr th:only-of-type {\n",
       "        vertical-align: middle;\n",
       "    }\n",
       "\n",
       "    .dataframe tbody tr th {\n",
       "        vertical-align: top;\n",
       "    }\n",
       "\n",
       "    .dataframe thead th {\n",
       "        text-align: right;\n",
       "    }\n",
       "</style>\n",
       "<table border=\"1\" class=\"dataframe\">\n",
       "  <thead>\n",
       "    <tr style=\"text-align: right;\">\n",
       "      <th></th>\n",
       "      <th>property</th>\n",
       "      <th>propertyLabel</th>\n",
       "      <th>propertyDescription</th>\n",
       "      <th>id</th>\n",
       "    </tr>\n",
       "  </thead>\n",
       "  <tbody>\n",
       "    <tr>\n",
       "      <th>0</th>\n",
       "      <td>http://wikibase.svc/entity/P1</td>\n",
       "      <td>imported from Wikimedia project</td>\n",
       "      <td>This is a test description for imported from W...</td>\n",
       "      <td>P1</td>\n",
       "    </tr>\n",
       "    <tr>\n",
       "      <th>1</th>\n",
       "      <td>http://wikibase.svc/entity/P2</td>\n",
       "      <td>instance of</td>\n",
       "      <td>This is a test description for instance of</td>\n",
       "      <td>P2</td>\n",
       "    </tr>\n",
       "    <tr>\n",
       "      <th>2</th>\n",
       "      <td>http://wikibase.svc/entity/P3</td>\n",
       "      <td>mrds id</td>\n",
       "      <td>This is a test description for mrds id</td>\n",
       "      <td>P3</td>\n",
       "    </tr>\n",
       "    <tr>\n",
       "      <th>3</th>\n",
       "      <td>http://wikibase.svc/entity/P4</td>\n",
       "      <td>reference url</td>\n",
       "      <td>This is a test description for reference url</td>\n",
       "      <td>P4</td>\n",
       "    </tr>\n",
       "    <tr>\n",
       "      <th>4</th>\n",
       "      <td>http://wikibase.svc/entity/P5</td>\n",
       "      <td>country</td>\n",
       "      <td>This is a test description for country</td>\n",
       "      <td>P5</td>\n",
       "    </tr>\n",
       "    <tr>\n",
       "      <th>5</th>\n",
       "      <td>http://wikibase.svc/entity/P6</td>\n",
       "      <td>dep id</td>\n",
       "      <td>This is a test description for dep id</td>\n",
       "      <td>P6</td>\n",
       "    </tr>\n",
       "    <tr>\n",
       "      <th>6</th>\n",
       "      <td>http://wikibase.svc/entity/P7</td>\n",
       "      <td>coordinate location</td>\n",
       "      <td>This is a test description for coordinate loca...</td>\n",
       "      <td>P7</td>\n",
       "    </tr>\n",
       "    <tr>\n",
       "      <th>7</th>\n",
       "      <td>http://wikibase.svc/entity/P8</td>\n",
       "      <td>state</td>\n",
       "      <td>This is a test description for state</td>\n",
       "      <td>P8</td>\n",
       "    </tr>\n",
       "    <tr>\n",
       "      <th>8</th>\n",
       "      <td>http://wikibase.svc/entity/P9</td>\n",
       "      <td>stated in</td>\n",
       "      <td>This is a test description for stated in</td>\n",
       "      <td>P9</td>\n",
       "    </tr>\n",
       "    <tr>\n",
       "      <th>9</th>\n",
       "      <td>http://wikibase.svc/entity/P10</td>\n",
       "      <td>described by source</td>\n",
       "      <td>This is a test description for described by so...</td>\n",
       "      <td>P10</td>\n",
       "    </tr>\n",
       "    <tr>\n",
       "      <th>10</th>\n",
       "      <td>http://wikibase.svc/entity/P11</td>\n",
       "      <td>last update</td>\n",
       "      <td>This is a test description for last update</td>\n",
       "      <td>P11</td>\n",
       "    </tr>\n",
       "    <tr>\n",
       "      <th>11</th>\n",
       "      <td>http://wikibase.svc/entity/P12</td>\n",
       "      <td>reported by</td>\n",
       "      <td>This is a test description for reported by</td>\n",
       "      <td>P12</td>\n",
       "    </tr>\n",
       "    <tr>\n",
       "      <th>12</th>\n",
       "      <td>http://wikibase.svc/entity/P13</td>\n",
       "      <td>subclass of</td>\n",
       "      <td>this item is a subclass (subset) of that item;...</td>\n",
       "      <td>P13</td>\n",
       "    </tr>\n",
       "    <tr>\n",
       "      <th>13</th>\n",
       "      <td>http://wikibase.svc/entity/P20</td>\n",
       "      <td>reference item</td>\n",
       "      <td>a knowledgebase item that serves as the source...</td>\n",
       "      <td>P20</td>\n",
       "    </tr>\n",
       "    <tr>\n",
       "      <th>14</th>\n",
       "      <td>http://wikibase.svc/entity/P21</td>\n",
       "      <td>reference statement</td>\n",
       "      <td>a short statement about the source for a claim...</td>\n",
       "      <td>P21</td>\n",
       "    </tr>\n",
       "    <tr>\n",
       "      <th>15</th>\n",
       "      <td>http://wikibase.svc/entity/P22</td>\n",
       "      <td>publication date</td>\n",
       "      <td>date or point in time when a work represented ...</td>\n",
       "      <td>P22</td>\n",
       "    </tr>\n",
       "    <tr>\n",
       "      <th>16</th>\n",
       "      <td>http://wikibase.svc/entity/P23</td>\n",
       "      <td>subject matter</td>\n",
       "      <td>topic or subject addressed by the item</td>\n",
       "      <td>P23</td>\n",
       "    </tr>\n",
       "    <tr>\n",
       "      <th>17</th>\n",
       "      <td>http://wikibase.svc/entity/P24</td>\n",
       "      <td>ranking</td>\n",
       "      <td>used as statement qualifier indicating relativ...</td>\n",
       "      <td>P24</td>\n",
       "    </tr>\n",
       "  </tbody>\n",
       "</table>\n",
       "</div>"
      ],
      "text/plain": [
       "                          property                    propertyLabel  \\\n",
       "0    http://wikibase.svc/entity/P1  imported from Wikimedia project   \n",
       "1    http://wikibase.svc/entity/P2                      instance of   \n",
       "2    http://wikibase.svc/entity/P3                          mrds id   \n",
       "3    http://wikibase.svc/entity/P4                    reference url   \n",
       "4    http://wikibase.svc/entity/P5                          country   \n",
       "5    http://wikibase.svc/entity/P6                           dep id   \n",
       "6    http://wikibase.svc/entity/P7              coordinate location   \n",
       "7    http://wikibase.svc/entity/P8                            state   \n",
       "8    http://wikibase.svc/entity/P9                        stated in   \n",
       "9   http://wikibase.svc/entity/P10              described by source   \n",
       "10  http://wikibase.svc/entity/P11                      last update   \n",
       "11  http://wikibase.svc/entity/P12                      reported by   \n",
       "12  http://wikibase.svc/entity/P13                      subclass of   \n",
       "13  http://wikibase.svc/entity/P20                   reference item   \n",
       "14  http://wikibase.svc/entity/P21              reference statement   \n",
       "15  http://wikibase.svc/entity/P22                 publication date   \n",
       "16  http://wikibase.svc/entity/P23                   subject matter   \n",
       "17  http://wikibase.svc/entity/P24                          ranking   \n",
       "\n",
       "                                  propertyDescription   id  \n",
       "0   This is a test description for imported from W...   P1  \n",
       "1          This is a test description for instance of   P2  \n",
       "2              This is a test description for mrds id   P3  \n",
       "3        This is a test description for reference url   P4  \n",
       "4              This is a test description for country   P5  \n",
       "5               This is a test description for dep id   P6  \n",
       "6   This is a test description for coordinate loca...   P7  \n",
       "7                This is a test description for state   P8  \n",
       "8            This is a test description for stated in   P9  \n",
       "9   This is a test description for described by so...  P10  \n",
       "10         This is a test description for last update  P11  \n",
       "11         This is a test description for reported by  P12  \n",
       "12  this item is a subclass (subset) of that item;...  P13  \n",
       "13  a knowledgebase item that serves as the source...  P20  \n",
       "14  a short statement about the source for a claim...  P21  \n",
       "15  date or point in time when a work represented ...  P22  \n",
       "16             topic or subject addressed by the item  P23  \n",
       "17  used as statement qualifier indicating relativ...  P24  "
      ]
     },
     "execution_count": 24,
     "metadata": {},
     "output_type": "execute_result"
    }
   ],
   "source": [
    "df_properties = sparql_query(sparql_endpoint, 'dataframe', property_query)\n",
    "df_properties['id'] = df_properties.property.apply(lambda x: x.split('/')[-1])\n",
    "df_properties"
   ]
  },
  {
   "attachments": {},
   "cell_type": "markdown",
   "metadata": {},
   "source": [
    "So far, the best I've come up with is a query on a given item by label or other criteria. I need to work out the best way to check through our baseline, and iterating through the whole list seems kind of dumb. For whatever reason, I can't apply a similar criteria for items that I did for properties like...\n",
    "\n",
    "e.g., `?item a wikibase:Item`"
   ]
  },
  {
   "cell_type": "code",
   "execution_count": null,
   "metadata": {},
   "outputs": [],
   "source": [
    "df = sparql_query(sparql_endpoint, 'dataframe', query_by_item_label('human'))\n",
    "df['item'] = df.item.apply(lambda x: x.split('/')[-1])\n",
    "df"
   ]
  },
  {
   "attachments": {},
   "cell_type": "markdown",
   "metadata": {},
   "source": [
    "## Building properties and items\n",
    "\n",
    "I left off here after proving that I can at least create items. This last bit was following the [tutorial](https://www.wikidata.org/wiki/Wikidata:Pywikibot_-_Python_3_Tutorial/Labels) on building and editing items to include more rich provenance (history). I'll come back to build this into functional logic.\n",
    "\n",
    "### Deletion\n",
    "\n",
    "After some reading on this, it looks like deleting pages in a Mediawiki instance can only be done by users with administrative privileges. This is probably a good safeguard for us to leverage, but we need to suss out a usable workflow. There appears to be some type of functionality to mark a page for deletion, presumably with administrator action to concur on the action and execute it.\n",
    "\n",
    "### Looping vs. something more efficient\n",
    "\n",
    "The pywikibot engine appears to impose some throttling on looped operations like adding entities. This doesn't matter when running something like a basic initialization process with a handful of properties and classification items. It might or might not matter when we get to loading thousands of reference items and the many other things we need to create. The building of structured and semantically explicit knowledge is somewhat inherently slow and deliberate anyway, so we may not really care if a process has to run all night to load new information that won't change much after that point except incrementally. But we do need to better understand what's imposed by the infrastructure and how we best handle our use cases."
   ]
  },
  {
   "cell_type": "code",
   "execution_count": 25,
   "metadata": {},
   "outputs": [
    {
     "data": {
      "text/html": [
       "<div>\n",
       "<style scoped>\n",
       "    .dataframe tbody tr th:only-of-type {\n",
       "        vertical-align: middle;\n",
       "    }\n",
       "\n",
       "    .dataframe tbody tr th {\n",
       "        vertical-align: top;\n",
       "    }\n",
       "\n",
       "    .dataframe thead th {\n",
       "        text-align: right;\n",
       "    }\n",
       "</style>\n",
       "<table border=\"1\" class=\"dataframe\">\n",
       "  <thead>\n",
       "    <tr style=\"text-align: right;\">\n",
       "      <th></th>\n",
       "      <th>label</th>\n",
       "      <th>description</th>\n",
       "      <th>datatype</th>\n",
       "      <th>wd_id</th>\n",
       "    </tr>\n",
       "  </thead>\n",
       "  <tbody>\n",
       "  </tbody>\n",
       "</table>\n",
       "</div>"
      ],
      "text/plain": [
       "Empty DataFrame\n",
       "Columns: [label, description, datatype, wd_id]\n",
       "Index: []"
      ]
     },
     "execution_count": 25,
     "metadata": {},
     "output_type": "execute_result"
    }
   ],
   "source": [
    "# Missing properties\n",
    "missing_properties = geokb_properties[~geokb_properties.label.isin(df_properties.propertyLabel)]\n",
    "missing_properties"
   ]
  },
  {
   "cell_type": "code",
   "execution_count": 23,
   "metadata": {},
   "outputs": [
    {
     "data": {
      "text/plain": [
       "{'entity': {'type': 'property',\n",
       "  'datatype': 'string',\n",
       "  'id': 'P21',\n",
       "  'labels': {'en': {'language': 'en', 'value': 'reference statement'}},\n",
       "  'descriptions': {'en': {'language': 'en',\n",
       "    'value': 'a short statement about the source for a claiml;used when no viable item or URL is available'}},\n",
       "  'aliases': {},\n",
       "  'claims': {},\n",
       "  'lastrevid': 19},\n",
       " 'success': 1}"
      ]
     },
     "metadata": {},
     "output_type": "display_data"
    },
    {
     "name": "stderr",
     "output_type": "stream",
     "text": [
      "Sleeping for 9.4 seconds, 2023-02-19 08:04:23\n"
     ]
    },
    {
     "data": {
      "text/plain": [
       "{'entity': {'type': 'property',\n",
       "  'datatype': 'time',\n",
       "  'id': 'P22',\n",
       "  'labels': {'en': {'language': 'en', 'value': 'publication date'}},\n",
       "  'descriptions': {'en': {'language': 'en',\n",
       "    'value': 'date or point in time when a work represented by a knowledgebase item was first published or released'}},\n",
       "  'aliases': {},\n",
       "  'claims': {},\n",
       "  'lastrevid': 20},\n",
       " 'success': 1}"
      ]
     },
     "metadata": {},
     "output_type": "display_data"
    },
    {
     "name": "stderr",
     "output_type": "stream",
     "text": [
      "Sleeping for 9.9 seconds, 2023-02-19 08:04:32\n"
     ]
    },
    {
     "data": {
      "text/plain": [
       "{'entity': {'type': 'property',\n",
       "  'datatype': 'wikibase-item',\n",
       "  'id': 'P23',\n",
       "  'labels': {'en': {'language': 'en', 'value': 'subject matter'}},\n",
       "  'descriptions': {'en': {'language': 'en',\n",
       "    'value': 'topic or subject addressed by the item'}},\n",
       "  'aliases': {},\n",
       "  'claims': {},\n",
       "  'lastrevid': 21},\n",
       " 'success': 1}"
      ]
     },
     "metadata": {},
     "output_type": "display_data"
    },
    {
     "name": "stderr",
     "output_type": "stream",
     "text": [
      "Sleeping for 9.8 seconds, 2023-02-19 08:04:42\n"
     ]
    },
    {
     "data": {
      "text/plain": [
       "{'entity': {'type': 'property',\n",
       "  'datatype': 'quantity',\n",
       "  'id': 'P24',\n",
       "  'labels': {'en': {'language': 'en', 'value': 'ranking'}},\n",
       "  'descriptions': {'en': {'language': 'en',\n",
       "    'value': 'used as statement qualifier indicating relative ranking'}},\n",
       "  'aliases': {},\n",
       "  'claims': {},\n",
       "  'lastrevid': 22},\n",
       " 'success': 1}"
      ]
     },
     "metadata": {},
     "output_type": "display_data"
    }
   ],
   "source": [
    "for index, row in missing_properties.iterrows():\n",
    "    wb_entity = build_entity(\n",
    "        label=row.label,\n",
    "        description=row.description,\n",
    "        datatype=row.datatype\n",
    "    )\n",
    "\n",
    "    results = add_entity(\n",
    "        entitytype='property',\n",
    "        summary='Adding new property from GeoKB initialization spreadsheet',\n",
    "        site=geokb_site,\n",
    "        item=wb_entity\n",
    "    )\n",
    "\n",
    "    display(results)"
   ]
  },
  {
   "cell_type": "code",
   "execution_count": 26,
   "metadata": {},
   "outputs": [
    {
     "data": {
      "text/plain": [
       "{'labels': <class 'pywikibot.page._collections.LanguageDict'>({'en': 'imported from Wikimedia project'}),\n",
       " 'descriptions': <class 'pywikibot.page._collections.LanguageDict'>({'en': 'This is a test description for imported from Wikimedia project'}),\n",
       " 'aliases': <class 'pywikibot.page._collections.AliasesDict'>({}),\n",
       " 'claims': <class 'pywikibot.page._collections.ClaimCollection'>({}),\n",
       " 'datatype': 'url'}"
      ]
     },
     "execution_count": 26,
     "metadata": {},
     "output_type": "execute_result"
    }
   ],
   "source": [
    "# Need to come back to better understand how to deal with property changes and deprecation over time.\n",
    "\n",
    "bad_prop = pwb.PropertyPage(geokb_site.data_repository(), 'P1')\n",
    "bad_prop.get()\n",
    "# bad_prop.delete()"
   ]
  },
  {
   "attachments": {},
   "cell_type": "markdown",
   "metadata": {},
   "source": [
    "### Item creation and development\n",
    "\n",
    "Since the looping process to build items is somewhat slow and deliberative with pywikibot anyway, it doesn't matter if we need to check each classification item from our initialization spreadsheet, decide if it's already in the GeoKB, and then build if if necessary.\n",
    "\n",
    "Right now, this seems like a slow and clunky way to introduce things to the GeoKB. I ended up breaking out the piece on adding aliases because I kept failing to get the item encoding right for the `pwb.simple_request()` method. But this is also an area where recording aliases individually for items as they come up is going to be something we do pretty often, and having these inserted with a summary statement for provenance will be useful."
   ]
  },
  {
   "cell_type": "code",
   "execution_count": 73,
   "metadata": {},
   "outputs": [
    {
     "name": "stdout",
     "output_type": "stream",
     "text": [
      "ITEM EXISTS entity Q5\n"
     ]
    },
    {
     "data": {
      "text/plain": [
       "[{'message': \"Settings aliases: en = '['thing']'\"}]"
      ]
     },
     "metadata": {},
     "output_type": "display_data"
    },
    {
     "name": "stdout",
     "output_type": "stream",
     "text": [
      "ITEM EXISTS person Q3\n"
     ]
    },
    {
     "name": "stderr",
     "output_type": "stream",
     "text": [
      "Sleeping for 9.0 seconds, 2023-02-19 10:22:22\n"
     ]
    },
    {
     "data": {
      "text/plain": [
       "[{'message': \"Settings aliases: en = '['human']'\"}]"
      ]
     },
     "metadata": {},
     "output_type": "display_data"
    },
    {
     "name": "stdout",
     "output_type": "stream",
     "text": [
      "ITEM EXISTS organization Q6\n",
      "ITEM EXISTS document Q4\n",
      "ITEM EXISTS publication Q7\n",
      "ITEM EXISTS scholarly article Q30\n"
     ]
    },
    {
     "name": "stderr",
     "output_type": "stream",
     "text": [
      "Sleeping for 8.0 seconds, 2023-02-19 10:22:33\n"
     ]
    },
    {
     "data": {
      "text/plain": [
       "[{'message': \"Settings aliases: en = '['research article', 'scientific article', 'journal article']'\"}]"
      ]
     },
     "metadata": {},
     "output_type": "display_data"
    },
    {
     "name": "stdout",
     "output_type": "stream",
     "text": [
      "ITEM EXISTS report Q9\n",
      "ITEM EXISTS government report Q10\n",
      "ITEM EXISTS NI 43-101 Technical Report Q11\n",
      "ITEM EXISTS USGS Report Series Q31\n"
     ]
    },
    {
     "name": "stderr",
     "output_type": "stream",
     "text": [
      "Sleeping for 7.5 seconds, 2023-02-19 10:22:43\n"
     ]
    },
    {
     "data": {
      "text/plain": [
       "[{'message': \"Settings aliases: en = '['USGS Series Report']'\"}]"
      ]
     },
     "metadata": {},
     "output_type": "display_data"
    },
    {
     "name": "stdout",
     "output_type": "stream",
     "text": [
      "ITEM EXISTS dataset Q13\n",
      "ITEM EXISTS scientific model Q14\n",
      "ITEM EXISTS project Q15\n",
      "ITEM EXISTS research project Q32\n"
     ]
    },
    {
     "name": "stderr",
     "output_type": "stream",
     "text": [
      "Sleeping for 8.0 seconds, 2023-02-19 10:22:53\n"
     ]
    },
    {
     "data": {
      "text/plain": [
       "[{'message': \"Settings aliases: en = '['science project', 'scientific study']'\"}]"
      ]
     },
     "metadata": {},
     "output_type": "display_data"
    },
    {
     "name": "stdout",
     "output_type": "stream",
     "text": [
      "ITEM EXISTS phenomenon Q17\n",
      "ITEM EXISTS natural phenomenon Q18\n",
      "ITEM EXISTS material Q19\n",
      "ITEM EXISTS natural material Q20\n",
      "ITEM EXISTS mineral occurrence Q21\n",
      "ITEM EXISTS mineral deposit Q22\n",
      "ITEM EXISTS ore Q23\n",
      "ITEM EXISTS ore deposit Q24\n",
      "ITEM EXISTS mineral Q25\n",
      "ITEM EXISTS mineral deposit model Q26\n"
     ]
    }
   ],
   "source": [
    "for index, row in geokb_classes.iterrows():\n",
    "    query_results = sparql_query(\n",
    "        endpoint=sparql_endpoint,\n",
    "        output='raw',\n",
    "        query=query_by_item_label(label=row.label)\n",
    "    )\n",
    "\n",
    "    if query_results['results']['bindings']:\n",
    "        item_id = query_results['results']['bindings'][0]['item']['value'].split('/')[-1]\n",
    "        print(\"ITEM EXISTS\", row.label, item_id)\n",
    "    else:\n",
    "        response = add_entity(\n",
    "            entitytype='item',\n",
    "            summary='Adding classification item from GeoKB initialization spreadsheet',\n",
    "            site=geokb_site,\n",
    "            item=build_entity(\n",
    "                label=row.label,\n",
    "                description=row.description\n",
    "            )\n",
    "        )\n",
    "        item_id = response['entity']['id']\n",
    "        print(\"ADDED ITEM\", row.label, item_id)\n",
    "\n",
    "    if isinstance(row.aliases, str):\n",
    "        display(update_aliases(\n",
    "            site=geokb_site,\n",
    "            entity_id=item_id,\n",
    "            aliases=row.aliases\n",
    "        ))\n"
   ]
  },
  {
   "attachments": {},
   "cell_type": "markdown",
   "metadata": {},
   "source": [
    "### Claims\n",
    "\n",
    "I'm stymied again for just a bit now on the process of building claims on items. This should be similar, in some respects, to updating an item with aliases where we have an existing item and need to add claims/statements to it. But I have to figure out the anatomy of a claim as I'm getting an API error now after adding a statement by hand and trying to get() the item. Jonathan came up with an approach in his code, so I'll work through that and see if I can figure out what's really going on with this piece."
   ]
  },
  {
   "cell_type": "code",
   "execution_count": 89,
   "metadata": {},
   "outputs": [
    {
     "data": {
      "text/plain": [
       "<class 'pywikibot.page._collections.ClaimCollection'>({})"
      ]
     },
     "execution_count": 89,
     "metadata": {},
     "output_type": "execute_result"
    }
   ],
   "source": [
    "entity = pwb.ItemPage(geokb_site.data_repository(), 'Q3')\n",
    "entity.get()['claims']"
   ]
  }
 ],
 "metadata": {
  "kernelspec": {
   "display_name": "Python 3.11.0 ('geokb')",
   "language": "python",
   "name": "python3"
  },
  "language_info": {
   "codemirror_mode": {
    "name": "ipython",
    "version": 3
   },
   "file_extension": ".py",
   "mimetype": "text/x-python",
   "name": "python",
   "nbconvert_exporter": "python",
   "pygments_lexer": "ipython3",
   "version": "3.11.0"
  },
  "orig_nbformat": 4,
  "vscode": {
   "interpreter": {
    "hash": "bf3b427550abc636388c726c622fd95adcdc42f0880499fad9fd5e67fc347911"
   }
  }
 },
 "nbformat": 4,
 "nbformat_minor": 2
}
