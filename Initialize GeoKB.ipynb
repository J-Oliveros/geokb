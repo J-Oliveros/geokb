{
 "cells": [
  {
   "attachments": {},
   "cell_type": "markdown",
   "metadata": {},
   "source": [
    "This notebook is a work in progress process for initializing the Geoscience Knowledgebase with a set of properties and foundational semantics that establishes a base to build from in curating geoscientific knowledge. Ignore most of it until we get it better refined."
   ]
  },
  {
   "cell_type": "code",
   "execution_count": 1,
   "metadata": {},
   "outputs": [],
   "source": [
    "import pywikibot as pwb\n",
    "import json"
   ]
  },
  {
   "cell_type": "code",
   "execution_count": 2,
   "metadata": {},
   "outputs": [],
   "source": [
    "def get_wb(site_name: str, language='en'):\n",
    "    site = pwb.Site(language, site_name)\n",
    "    site.login()\n",
    "    repo = site.data_repository()\n",
    "\n",
    "    return site, repo\n",
    "\n",
    "def build_item(label: str, description: str, aliases: list, language: str = 'en') -> dict:\n",
    "    item = {\n",
    "        'labels': {\n",
    "            language: {\n",
    "                'language': language,\n",
    "                'value': label\n",
    "            }\n",
    "        },\n",
    "        'descriptions': {\n",
    "            language: {\n",
    "                'language': language,\n",
    "                'value': description\n",
    "            }\n",
    "        }\n",
    "    }\n",
    "\n",
    "    return item\n",
    "\n",
    "def add_item(site: pwb.APISite, item: dict) -> dict:\n",
    "    params = {\n",
    "        'action': 'wbeditentity',\n",
    "        'new': 'item',\n",
    "        'data': json.dumps(item),\n",
    "        'token': site.tokens['csrf'],\n",
    "    }\n",
    "\n",
    "    try:\n",
    "        req = site.simple_request(**params)\n",
    "        results = req.submit()\n",
    "        return results\n",
    "    except Exception as e:\n",
    "        item[\"error\"] = e\n",
    "        return e\n",
    "\n",
    "# Next steps here are to work in the build_item idea and revisit the upsert methods\n",
    "# to deal with cases where items already exist"
   ]
  },
  {
   "cell_type": "code",
   "execution_count": 3,
   "metadata": {},
   "outputs": [],
   "source": [
    "# Required connection points in the pwb API\n",
    "geokb_site, geokb_repo = get_wb('geokb')"
   ]
  },
  {
   "cell_type": "code",
   "execution_count": 4,
   "metadata": {},
   "outputs": [
    {
     "name": "stdout",
     "output_type": "stream",
     "text": [
      "<class 'pywikibot.site._apisite.APISite'> <class 'pywikibot.site._datasite.DataSite'>\n"
     ]
    }
   ],
   "source": [
    "print(type(geokb_site), type(geokb_repo))"
   ]
  },
  {
   "attachments": {},
   "cell_type": "markdown",
   "metadata": {},
   "source": [
    "I left off here after proving that I can at least create items. This last bit was following the [tutorial](https://www.wikidata.org/wiki/Wikidata:Pywikibot_-_Python_3_Tutorial/Labels) on building and editing items to include more rich provenance (history). I'll come back to build this into functional logic."
   ]
  },
  {
   "cell_type": "code",
   "execution_count": 24,
   "metadata": {},
   "outputs": [],
   "source": [
    "item = pwb.ItemPage(geokb_repo, \"Q3\")\n",
    "\n",
    "# new_labels = {\"en\": \"bear\", \"de\": \"Bär\"}\n",
    "# new_descr = {\"en\": \"gentle creature of the forest\",\n",
    "#              \"de\": \"Friedlicher Waldbewohner\"}\n",
    "new_alias = {\"en\": [\"person\"]}\n",
    "\n",
    "for key in new_alias:\n",
    "    item.editAliases({key: new_alias[key]},\n",
    "        summary=\"Settings aliases: {} = '{}'\".format(key, new_alias[key]))"
   ]
  }
 ],
 "metadata": {
  "kernelspec": {
   "display_name": "Python 3.11.0 ('geokb')",
   "language": "python",
   "name": "python3"
  },
  "language_info": {
   "codemirror_mode": {
    "name": "ipython",
    "version": 3
   },
   "file_extension": ".py",
   "mimetype": "text/x-python",
   "name": "python",
   "nbconvert_exporter": "python",
   "pygments_lexer": "ipython3",
   "version": "3.11.0"
  },
  "orig_nbformat": 4,
  "vscode": {
   "interpreter": {
    "hash": "bf3b427550abc636388c726c622fd95adcdc42f0880499fad9fd5e67fc347911"
   }
  }
 },
 "nbformat": 4,
 "nbformat_minor": 2
}
