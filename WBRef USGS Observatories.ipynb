{
 "cells": [
  {
   "attachments": {},
   "cell_type": "markdown",
   "metadata": {},
   "source": [
    "The USGS web has a unique listing for \"observatories\" as an organizational concept that really doesn't exist anywhere else. Right now, these are only the volcano observatories, but we could possibly see other types of observatories in future. Since this is how these particular organizational units are presented to the public and we can and need to pull them in, this notebook processes the page of observatories into GeoKB items."
   ]
  },
  {
   "cell_type": "code",
   "execution_count": 1,
   "metadata": {
    "vscode": {
     "languageId": "python"
    }
   },
   "outputs": [],
   "source": [
    "import os\n",
    "import requests\n",
    "from bs4 import BeautifulSoup\n",
    "import pandas as pd\n",
    "import openai\n",
    "from wbmaker import WikibaseConnection"
   ]
  },
  {
   "cell_type": "code",
   "execution_count": 2,
   "metadata": {
    "vscode": {
     "languageId": "python"
    }
   },
   "outputs": [],
   "source": [
    "geokb = WikibaseConnection(\"GEOKB_CLOUD\")"
   ]
  },
  {
   "cell_type": "code",
   "execution_count": 3,
   "metadata": {
    "vscode": {
     "languageId": "python"
    }
   },
   "outputs": [],
   "source": [
    "usgs_base_url = \"https://www.usgs.gov\"\n",
    "usgs_obs_url = \"https://www.usgs.gov/science/observatories\""
   ]
  },
  {
   "cell_type": "code",
   "execution_count": 8,
   "metadata": {
    "vscode": {
     "languageId": "python"
    }
   },
   "outputs": [],
   "source": [
    "def summarize_description(office_name, long_desc):\n",
    "    if len(long_desc) < 251:\n",
    "        return long_desc\n",
    "\n",
    "    response = openai.ChatCompletion.create(\n",
    "        model=\"gpt-3.5-turbo\",\n",
    "        messages=[\n",
    "            {\n",
    "                \"role\": \"system\",\n",
    "                \"content\": \"You are a helpful assistant.\"\n",
    "            },\n",
    "            {\n",
    "                \"role\": \"user\",\n",
    "                \"content\": f\"Provide a concise summary (250 characters or less) of the following text: {long_desc}\"\n",
    "            },\n",
    "        ]\n",
    "    )\n",
    "\n",
    "    summary = response[\"choices\"][0][\"message\"][\"content\"]\n",
    "\n",
    "    if len(summary) > 250:\n",
    "        response = openai.ChatCompletion.create(\n",
    "            model=\"gpt-3.5-turbo\",\n",
    "            messages=[\n",
    "                {\n",
    "                    \"role\": \"system\",\n",
    "                    \"content\": \"You are a helpful assistant.\"\n",
    "                },\n",
    "                {\n",
    "                    \"role\": \"user\",\n",
    "                    \"content\": f\"Provide a concise summary of less than 250 characters for the USGS {office_name}.\"\n",
    "                },\n",
    "            ]\n",
    "        )\n",
    "\n",
    "        summary = response[\"choices\"][0][\"message\"][\"content\"]\n",
    "\n",
    "        if len(summary) > 250:\n",
    "            return long_desc[:249]\n",
    "\n",
    "    return summary"
   ]
  },
  {
   "cell_type": "code",
   "execution_count": 5,
   "metadata": {
    "vscode": {
     "languageId": "python"
    }
   },
   "outputs": [],
   "source": [
    "observatories = []\n",
    "r = requests.get(usgs_obs_url)\n",
    "if r.status_code == 200:\n",
    "    soup = BeautifulSoup(r.content, 'html.parser')\n",
    "    for item in soup.find_all('div', {'class': 'grid-col-10'}):\n",
    "        observatories.append({\n",
    "            \"label\": item.find('h4').text.strip(),\n",
    "            \"link\": f\"{usgs_base_url}{item.find('h4').find('a')['href']}\",\n",
    "            \"description\": item.find('div', {'class': 'field-intro'}).text.strip()\n",
    "        })"
   ]
  },
  {
   "cell_type": "code",
   "execution_count": 6,
   "metadata": {
    "vscode": {
     "languageId": "python"
    }
   },
   "outputs": [
    {
     "data": {
      "text/html": [
       "<div>\n",
       "<style scoped>\n",
       "    .dataframe tbody tr th:only-of-type {\n",
       "        vertical-align: middle;\n",
       "    }\n",
       "\n",
       "    .dataframe tbody tr th {\n",
       "        vertical-align: top;\n",
       "    }\n",
       "\n",
       "    .dataframe thead th {\n",
       "        text-align: right;\n",
       "    }\n",
       "</style>\n",
       "<table border=\"1\" class=\"dataframe\">\n",
       "  <thead>\n",
       "    <tr style=\"text-align: right;\">\n",
       "      <th></th>\n",
       "      <th>label</th>\n",
       "      <th>link</th>\n",
       "      <th>description</th>\n",
       "    </tr>\n",
       "  </thead>\n",
       "  <tbody>\n",
       "    <tr>\n",
       "      <th>0</th>\n",
       "      <td>Alaska Volcano Observatory</td>\n",
       "      <td>https://www.usgs.gov/observatories/avo</td>\n",
       "      <td>The Alaska Volcano Observatory (AVO) is a join...</td>\n",
       "    </tr>\n",
       "    <tr>\n",
       "      <th>1</th>\n",
       "      <td>California Volcano Observatory</td>\n",
       "      <td>https://www.usgs.gov/california-volcano-observ...</td>\n",
       "      <td>As a part of the U.S. Geological Survey's Volc...</td>\n",
       "    </tr>\n",
       "    <tr>\n",
       "      <th>2</th>\n",
       "      <td>Cascades Volcano Observatory</td>\n",
       "      <td>https://www.usgs.gov/cascades-volcano-observatory</td>\n",
       "      <td>The U.S. Geological Survey's Cascades Volcano ...</td>\n",
       "    </tr>\n",
       "    <tr>\n",
       "      <th>3</th>\n",
       "      <td>Hawaiian Volcano Observatory</td>\n",
       "      <td>https://www.usgs.gov/observatories/hvo</td>\n",
       "      <td>HVO monitors earthquakes and the active volcan...</td>\n",
       "    </tr>\n",
       "    <tr>\n",
       "      <th>4</th>\n",
       "      <td>Yellowstone Volcano Observatory</td>\n",
       "      <td>https://www.usgs.gov/yellowstone-volcano-obser...</td>\n",
       "      <td>The Yellowstone Volcano Observatory (YVO) is a...</td>\n",
       "    </tr>\n",
       "  </tbody>\n",
       "</table>\n",
       "</div>"
      ],
      "text/plain": [
       "                             label  \\\n",
       "0       Alaska Volcano Observatory   \n",
       "1   California Volcano Observatory   \n",
       "2     Cascades Volcano Observatory   \n",
       "3     Hawaiian Volcano Observatory   \n",
       "4  Yellowstone Volcano Observatory   \n",
       "\n",
       "                                                link  \\\n",
       "0             https://www.usgs.gov/observatories/avo   \n",
       "1  https://www.usgs.gov/california-volcano-observ...   \n",
       "2  https://www.usgs.gov/cascades-volcano-observatory   \n",
       "3             https://www.usgs.gov/observatories/hvo   \n",
       "4  https://www.usgs.gov/yellowstone-volcano-obser...   \n",
       "\n",
       "                                         description  \n",
       "0  The Alaska Volcano Observatory (AVO) is a join...  \n",
       "1  As a part of the U.S. Geological Survey's Volc...  \n",
       "2  The U.S. Geological Survey's Cascades Volcano ...  \n",
       "3  HVO monitors earthquakes and the active volcan...  \n",
       "4  The Yellowstone Volcano Observatory (YVO) is a...  "
      ]
     },
     "execution_count": 6,
     "metadata": {},
     "output_type": "execute_result"
    }
   ],
   "source": [
    "df_observatories = pd.DataFrame(observatories)\n",
    "df_observatories"
   ]
  },
  {
   "cell_type": "code",
   "execution_count": 10,
   "metadata": {
    "vscode": {
     "languageId": "python"
    }
   },
   "outputs": [],
   "source": [
    "df_observatories[\"summary\"] = df_observatories.apply(lambda x: summarize_description(x.label, x.description), axis=1)"
   ]
  },
  {
   "cell_type": "code",
   "execution_count": 12,
   "metadata": {
    "vscode": {
     "languageId": "python"
    }
   },
   "outputs": [],
   "source": [
    "q_geokb_orgs = \"PREFIX%20wd%3A%20%3Chttps%3A%2F%2Fgeokb.wikibase.cloud%2Fentity%2F%3E%0APREFIX%20wdt%3A%20%3Chttps%3A%2F%2Fgeokb.wikibase.cloud%2Fprop%2Fdirect%2F%3E%0A%0ASELECT%20%3Fitem%20%3FitemLabel%20%3Fitem_alt_label%0AWHERE%20%7B%0A%20%20%3Fitem%20wdt%3AP62*%20wd%3AQ44210%20.%0A%20%20%3Fitem%20wdt%3AP1%20%3Finstance_of%20.%0A%20%20OPTIONAL%20%7B%0A%20%20%20%20%3Fitem%20skos%3AaltLabel%20%3Fitem_alt_label%20.%0A%20%20%20%20FILTER%20(lang(%3Fitem_alt_label)%3D'en')%0A%20%20%7D%0A%20%20SERVICE%20wikibase%3Alabel%20%7B%20bd%3AserviceParam%20wikibase%3Alanguage%20%22en%22%20.%20%7D%0A%7D\"\n",
    "df_geokb_orgs = geokb.wb_ref_data(query=q_geokb_orgs)\n",
    "df_geokb_orgs[\"qid\"] = df_geokb_orgs[\"item\"].apply(lambda x: x.split(\"/\")[-1])\n",
    "\n",
    "org_name_lookup = pd.concat(\n",
    "    [\n",
    "        df_geokb_orgs[[\"qid\",\"itemLabel\"]].drop_duplicates(),\n",
    "        df_geokb_orgs[df_geokb_orgs.item_alt_label.notnull()][[\"qid\",\"item_alt_label\"]].rename(columns={\"item_alt_label\": \"itemLabel\"})\n",
    "    ]\n",
    ").reset_index(drop=True)"
   ]
  },
  {
   "cell_type": "code",
   "execution_count": 14,
   "metadata": {
    "vscode": {
     "languageId": "python"
    }
   },
   "outputs": [],
   "source": [
    "df_observatories_geokb = pd.merge(\n",
    "    left=df_observatories,\n",
    "    right=org_name_lookup.rename(columns={\"itemLabel\": \"label\"}),\n",
    "    how=\"left\",\n",
    "    on=\"label\"\n",
    ")"
   ]
  },
  {
   "cell_type": "code",
   "execution_count": 18,
   "metadata": {
    "vscode": {
     "languageId": "python"
    }
   },
   "outputs": [
    {
     "data": {
      "text/html": [
       "<div>\n",
       "<style scoped>\n",
       "    .dataframe tbody tr th:only-of-type {\n",
       "        vertical-align: middle;\n",
       "    }\n",
       "\n",
       "    .dataframe tbody tr th {\n",
       "        vertical-align: top;\n",
       "    }\n",
       "\n",
       "    .dataframe thead th {\n",
       "        text-align: right;\n",
       "    }\n",
       "</style>\n",
       "<table border=\"1\" class=\"dataframe\">\n",
       "  <thead>\n",
       "    <tr style=\"text-align: right;\">\n",
       "      <th></th>\n",
       "      <th>label</th>\n",
       "      <th>link</th>\n",
       "      <th>description</th>\n",
       "      <th>summary</th>\n",
       "      <th>qid</th>\n",
       "    </tr>\n",
       "  </thead>\n",
       "  <tbody>\n",
       "    <tr>\n",
       "      <th>0</th>\n",
       "      <td>Alaska Volcano Observatory</td>\n",
       "      <td>https://www.usgs.gov/observatories/avo</td>\n",
       "      <td>The Alaska Volcano Observatory (AVO) is a join...</td>\n",
       "      <td>AVO is a collaborative program between USGS, U...</td>\n",
       "      <td>Q44361</td>\n",
       "    </tr>\n",
       "    <tr>\n",
       "      <th>1</th>\n",
       "      <td>California Volcano Observatory</td>\n",
       "      <td>https://www.usgs.gov/california-volcano-observ...</td>\n",
       "      <td>As a part of the U.S. Geological Survey's Volc...</td>\n",
       "      <td>The California Volcano Observatory seeks to re...</td>\n",
       "      <td>Q44336</td>\n",
       "    </tr>\n",
       "    <tr>\n",
       "      <th>2</th>\n",
       "      <td>Cascades Volcano Observatory</td>\n",
       "      <td>https://www.usgs.gov/cascades-volcano-observatory</td>\n",
       "      <td>The U.S. Geological Survey's Cascades Volcano ...</td>\n",
       "      <td>The U.S. Geological Survey's Cascades Volcano ...</td>\n",
       "      <td>Q44333</td>\n",
       "    </tr>\n",
       "    <tr>\n",
       "      <th>3</th>\n",
       "      <td>Hawaiian Volcano Observatory</td>\n",
       "      <td>https://www.usgs.gov/observatories/hvo</td>\n",
       "      <td>HVO monitors earthquakes and the active volcan...</td>\n",
       "      <td>Hawaii's HVO team monitors volcanoes for hazar...</td>\n",
       "      <td>Q44349</td>\n",
       "    </tr>\n",
       "    <tr>\n",
       "      <th>4</th>\n",
       "      <td>Yellowstone Volcano Observatory</td>\n",
       "      <td>https://www.usgs.gov/yellowstone-volcano-obser...</td>\n",
       "      <td>The Yellowstone Volcano Observatory (YVO) is a...</td>\n",
       "      <td>The USGS Yellowstone Volcano Observatory monit...</td>\n",
       "      <td>Q44373</td>\n",
       "    </tr>\n",
       "  </tbody>\n",
       "</table>\n",
       "</div>"
      ],
      "text/plain": [
       "                             label  \\\n",
       "0       Alaska Volcano Observatory   \n",
       "1   California Volcano Observatory   \n",
       "2     Cascades Volcano Observatory   \n",
       "3     Hawaiian Volcano Observatory   \n",
       "4  Yellowstone Volcano Observatory   \n",
       "\n",
       "                                                link  \\\n",
       "0             https://www.usgs.gov/observatories/avo   \n",
       "1  https://www.usgs.gov/california-volcano-observ...   \n",
       "2  https://www.usgs.gov/cascades-volcano-observatory   \n",
       "3             https://www.usgs.gov/observatories/hvo   \n",
       "4  https://www.usgs.gov/yellowstone-volcano-obser...   \n",
       "\n",
       "                                         description  \\\n",
       "0  The Alaska Volcano Observatory (AVO) is a join...   \n",
       "1  As a part of the U.S. Geological Survey's Volc...   \n",
       "2  The U.S. Geological Survey's Cascades Volcano ...   \n",
       "3  HVO monitors earthquakes and the active volcan...   \n",
       "4  The Yellowstone Volcano Observatory (YVO) is a...   \n",
       "\n",
       "                                             summary     qid  \n",
       "0  AVO is a collaborative program between USGS, U...  Q44361  \n",
       "1  The California Volcano Observatory seeks to re...  Q44336  \n",
       "2  The U.S. Geological Survey's Cascades Volcano ...  Q44333  \n",
       "3  Hawaii's HVO team monitors volcanoes for hazar...  Q44349  \n",
       "4  The USGS Yellowstone Volcano Observatory monit...  Q44373  "
      ]
     },
     "execution_count": 18,
     "metadata": {},
     "output_type": "execute_result"
    }
   ],
   "source": [
    "df_observatories_geokb"
   ]
  },
  {
   "cell_type": "code",
   "execution_count": 20,
   "metadata": {
    "vscode": {
     "languageId": "python"
    }
   },
   "outputs": [
    {
     "data": {
      "text/plain": [
       "<Qualifiers @4d76a0 _Qualifiers__qualifiers={'P110': [<Snak @4d76d0 _Snak__snaktype=<WikibaseSnakType.KNOWN_VALUE: 'value'> _Snak__property_number='P110' _Snak__hash=None _Snak__datavalue={'value': {'time': '+2023-01-01T00:00:00Z', 'before': 0, 'after': 0, 'precision': 9, 'timezone': 0, 'calendarmodel': 'http://www.wikidata.org/entity/Q1985727'}, 'type': 'time'} _Snak__datatype='time'>]}>"
      ]
     },
     "execution_count": 20,
     "metadata": {},
     "output_type": "execute_result"
    }
   ],
   "source": [
    "from wikibaseintegrator.wbi_enums import ActionIfExists, WikibaseDatePrecision\n",
    "\n",
    "refs = geokb.models.References()\n",
    "refs.add(\n",
    "    geokb.datatypes.URL(\n",
    "        prop_nr=geokb.prop_lookup['reference URL'],\n",
    "        value=usgs_obs_url\n",
    "    )\n",
    ")\n",
    "\n",
    "quals = geokb.models.Qualifiers()\n",
    "quals.add(\n",
    "    geokb.datatypes.Time(\n",
    "        prop_nr=geokb.prop_lookup['point in time'],\n",
    "        time='+2023-01-01T00:00:00Z',\n",
    "        precision=WikibaseDatePrecision.YEAR\n",
    "    )\n",
    ")\n",
    "\n"
   ]
  },
  {
   "cell_type": "code",
   "execution_count": 21,
   "metadata": {
    "vscode": {
     "languageId": "python"
    }
   },
   "outputs": [
    {
     "name": "stdout",
     "output_type": "stream",
     "text": [
      "Alaska Volcano Observatory Q44361\n",
      "California Volcano Observatory Q44336\n",
      "Cascades Volcano Observatory Q44333\n",
      "Hawaiian Volcano Observatory Q44349\n",
      "Yellowstone Volcano Observatory Q44373\n"
     ]
    }
   ],
   "source": [
    "for index, row in df_observatories_geokb.iterrows():\n",
    "    item = geokb.wbi.item.get(row[\"qid\"])\n",
    "    item.descriptions.set('en', row[\"summary\"])\n",
    "\n",
    "    instance_of_claim = geokb.datatypes.Item(\n",
    "        prop_nr=geokb.prop_lookup['instance of'],\n",
    "        value='Q50878',\n",
    "        qualifiers=quals,\n",
    "        references=refs\n",
    "    )\n",
    "\n",
    "    item.claims.add(\n",
    "        claims=instance_of_claim,\n",
    "        action_if_exists=ActionIfExists.REPLACE_ALL\n",
    "    )\n",
    "\n",
    "    part_of_claim = geokb.datatypes.Item(\n",
    "        prop_nr=geokb.prop_lookup['part of'],\n",
    "        value='Q44354',\n",
    "        qualifiers=quals,\n",
    "        references=refs\n",
    "    )\n",
    "\n",
    "    item.claims.add(\n",
    "        claims=part_of_claim,\n",
    "        action_if_exists=ActionIfExists.REPLACE_ALL\n",
    "    )\n",
    "\n",
    "    ref_url_claim = geokb.datatypes.URL(\n",
    "        prop_nr=geokb.prop_lookup['reference URL'],\n",
    "        value=row[\"link\"],\n",
    "        qualifiers=quals,\n",
    "        references=refs\n",
    "    )\n",
    "\n",
    "    item.claims.add(\n",
    "        claims=ref_url_claim,\n",
    "        action_if_exists=ActionIfExists.REPLACE_ALL\n",
    "    )\n",
    "\n",
    "    response = item.write(\n",
    "        summary=\"Refreshed observatory item with new information from web scrape\"\n",
    "    )\n",
    "    print(row.label, response.id)\n"
   ]
  }
 ],
 "metadata": {
  "kernelspec": {
   "display_name": "Python [conda env:geokb]",
   "language": "python",
   "name": "conda-env-geokb-py"
  },
  "orig_nbformat": 4
 },
 "nbformat": 4,
 "nbformat_minor": 2
}
